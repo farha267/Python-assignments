{
 "cells": [
  {
   "cell_type": "markdown",
   "id": "05f15789",
   "metadata": {},
   "source": [
    "# Python advanced assignment 08"
   ]
  },
  {
   "cell_type": "markdown",
   "id": "44bd4861",
   "metadata": {},
   "source": [
    "QUESTION 01"
   ]
  },
  {
   "cell_type": "markdown",
   "id": "f9f48a2a",
   "metadata": {},
   "source": [
    "Exception training and embedded tracebacks are the 2 methods"
   ]
  },
  {
   "cell_type": "markdown",
   "id": "526f3cec",
   "metadata": {},
   "source": [
    "QUESTION 05"
   ]
  },
  {
   "cell_type": "markdown",
   "id": "f2f52497",
   "metadata": {},
   "source": [
    "BECAUSE an empty str is returned if there are no arguments"
   ]
  },
  {
   "cell_type": "code",
   "execution_count": null,
   "id": "26c26229",
   "metadata": {},
   "outputs": [],
   "source": []
  }
 ],
 "metadata": {
  "kernelspec": {
   "display_name": "Python 3 (ipykernel)",
   "language": "python",
   "name": "python3"
  },
  "language_info": {
   "codemirror_mode": {
    "name": "ipython",
    "version": 3
   },
   "file_extension": ".py",
   "mimetype": "text/x-python",
   "name": "python",
   "nbconvert_exporter": "python",
   "pygments_lexer": "ipython3",
   "version": "3.9.7"
  }
 },
 "nbformat": 4,
 "nbformat_minor": 5
}
