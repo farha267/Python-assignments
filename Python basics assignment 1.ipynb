{
 "cells": [
  {
   "cell_type": "markdown",
   "id": "d3a81eb6",
   "metadata": {},
   "source": [
    "# PYTHON BASICS ASSIGNMENT 1 "
   ]
  },
  {
   "cell_type": "markdown",
   "id": "eda53131",
   "metadata": {},
   "source": [
    "# 01 \n",
    "  * = Expression\n",
    "    'hello' String\n",
    "       -87.8 value\n",
    "         - Expression\n",
    "           / Expression\n",
    "             + Expression\n",
    "               6 value"
   ]
  },
  {
   "cell_type": "markdown",
   "id": "074394c2",
   "metadata": {},
   "source": [
    "# 02  \n",
    "String is enclosed with single quotes or double quotes string can contain any type of data enclosed with quotes.\n",
    "   Variable is used to assign object in python its basically a name given to the objects "
   ]
  },
  {
   "cell_type": "markdown",
   "id": "16253f96",
   "metadata": {},
   "source": [
    "# 03  \n",
    "int = is a data type used to store a integer value eg: 675   \n",
    "   float = is a data type used to store a decimal value eg: 45.90   \n",
    "     Bool = is a data type used to store a boolean value eg: True"
   ]
  },
  {
   "cell_type": "markdown",
   "id": "cbdd703a",
   "metadata": {},
   "source": [
    "# 04   \n",
    "An expression is made of arithmethic operations and variables.\n",
    "  All expression perform a specific task and return a value."
   ]
  },
  {
   "cell_type": "markdown",
   "id": "93d8610d",
   "metadata": {},
   "source": [
    "# 05   \n",
    "Statements is used to form a sequence of program, it represents an action or command to perform a specific task.\n",
    "An expression is made of arithmethic operations and variables, All expression perform a specific task and return a value."
   ]
  },
  {
   "cell_type": "code",
   "execution_count": 11,
   "id": "d45897be",
   "metadata": {},
   "outputs": [
    {
     "data": {
      "text/plain": [
       "23"
      ]
     },
     "execution_count": 11,
     "metadata": {},
     "output_type": "execute_result"
    }
   ],
   "source": [
    "# 06   \n",
    "bacon = 22\n",
    "bacon + 1\n",
    "##The variable bacon contain int value of 23"
   ]
  },
  {
   "cell_type": "code",
   "execution_count": 10,
   "id": "5e88b838",
   "metadata": {},
   "outputs": [
    {
     "data": {
      "text/plain": [
       "'spamspamspam'"
      ]
     },
     "execution_count": 10,
     "metadata": {},
     "output_type": "execute_result"
    }
   ],
   "source": [
    "##  07\n",
    "'spam' + 'spamspam'\n",
    "'spam' * 3"
   ]
  },
  {
   "cell_type": "markdown",
   "id": "437849a5",
   "metadata": {},
   "source": [
    "## 08   \n",
    "Variable names cannot begin with a number \n",
    "eg: a = 'hgbjb'"
   ]
  },
  {
   "cell_type": "markdown",
   "id": "b94a0141",
   "metadata": {},
   "source": [
    "# 09   \n",
    "int()\n",
    "   float()\n",
    "     str()"
   ]
  },
  {
   "cell_type": "markdown",
   "id": "1064fc3c",
   "metadata": {},
   "source": [
    "##  10  \n",
    "'I have eaten' + 99 + 'burritos'\n",
    "This cause an error because we can only concatenate str+str not str+int\n",
    "This can be fixed by giving 'i have eaten'+ '99'+'burritos' (converting 99 into str)"
   ]
  },
  {
   "cell_type": "code",
   "execution_count": null,
   "id": "838a9e86",
   "metadata": {},
   "outputs": [],
   "source": []
  }
 ],
 "metadata": {
  "kernelspec": {
   "display_name": "Python 3 (ipykernel)",
   "language": "python",
   "name": "python3"
  },
  "language_info": {
   "codemirror_mode": {
    "name": "ipython",
    "version": 3
   },
   "file_extension": ".py",
   "mimetype": "text/x-python",
   "name": "python",
   "nbconvert_exporter": "python",
   "pygments_lexer": "ipython3",
   "version": "3.9.7"
  }
 },
 "nbformat": 4,
 "nbformat_minor": 5
}
