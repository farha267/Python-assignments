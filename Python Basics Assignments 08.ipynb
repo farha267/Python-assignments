{
 "cells": [
  {
   "cell_type": "markdown",
   "id": "5db6a6f7",
   "metadata": {},
   "source": [
    "\n",
    "# Python Basics Assignment 08"
   ]
  },
  {
   "cell_type": "markdown",
   "id": "2d185092",
   "metadata": {},
   "source": [
    "QUESTION 01"
   ]
  },
  {
   "cell_type": "markdown",
   "id": "7686f0dc",
   "metadata": {},
   "source": [
    "Its not included in standard library it should be installed seperately using pip"
   ]
  },
  {
   "cell_type": "markdown",
   "id": "ae13bb3e",
   "metadata": {},
   "source": [
    "QUESTION 02"
   ]
  },
  {
   "cell_type": "markdown",
   "id": "0b609cc4",
   "metadata": {},
   "source": [
    "So that we can enter a shorter name when calling the modules functions."
   ]
  },
  {
   "cell_type": "markdown",
   "id": "f9846a2f",
   "metadata": {},
   "source": [
    "QUESTION 03"
   ]
  },
  {
   "cell_type": "markdown",
   "id": "c382a3a3",
   "metadata": {},
   "source": [
    "When we want a user to type a integer value we use input int(), it returns a integer value\n",
    "       When we want a user to type decimal value we use input Float(), it returns a float value"
   ]
  },
  {
   "cell_type": "markdown",
   "id": "d9a8367b",
   "metadata": {},
   "source": [
    "QUESTION 04"
   ]
  },
  {
   "cell_type": "markdown",
   "id": "69b5a379",
   "metadata": {},
   "source": [
    "pyip.inputInt(min = 0, max = 99)"
   ]
  },
  {
   "cell_type": "markdown",
   "id": "ab4a18c9",
   "metadata": {},
   "source": [
    "QUESTION 05"
   ]
  },
  {
   "cell_type": "markdown",
   "id": "b562814d",
   "metadata": {},
   "source": [
    "pyip.inputStr()"
   ]
  },
  {
   "cell_type": "markdown",
   "id": "3d92e17c",
   "metadata": {},
   "source": [
    "QUESTION 06"
   ]
  },
  {
   "cell_type": "markdown",
   "id": "2d518efb",
   "metadata": {},
   "source": [
    "It will throw an RetryLimitException"
   ]
  },
  {
   "cell_type": "markdown",
   "id": "6b65c144",
   "metadata": {},
   "source": [
    "QUESTION 07"
   ]
  },
  {
   "cell_type": "code",
   "execution_count": null,
   "id": "80680357",
   "metadata": {},
   "outputs": [],
   "source": [
    "It returns a none value"
   ]
  }
 ],
 "metadata": {
  "kernelspec": {
   "display_name": "Python 3 (ipykernel)",
   "language": "python",
   "name": "python3"
  },
  "language_info": {
   "codemirror_mode": {
    "name": "ipython",
    "version": 3
   },
   "file_extension": ".py",
   "mimetype": "text/x-python",
   "name": "python",
   "nbconvert_exporter": "python",
   "pygments_lexer": "ipython3",
   "version": "3.9.7"
  }
 },
 "nbformat": 4,
 "nbformat_minor": 5
}
