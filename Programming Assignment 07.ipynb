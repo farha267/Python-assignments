{
 "cells": [
  {
   "cell_type": "markdown",
   "id": "4ce9c5c1",
   "metadata": {},
   "source": [
    "# Programming Advance 07"
   ]
  },
  {
   "cell_type": "markdown",
   "id": "93dff5c5",
   "metadata": {},
   "source": [
    "QUESTION 01"
   ]
  },
  {
   "cell_type": "code",
   "execution_count": 13,
   "id": "22913538",
   "metadata": {},
   "outputs": [
    {
     "name": "stdout",
     "output_type": "stream",
     "text": [
      "sum of array is 1\n",
      "sum of array is 6\n",
      "sum of array is 14\n",
      "sum of array is 23\n"
     ]
    }
   ],
   "source": [
    "arr = [1,5,8,9]\n",
    "sum = 0\n",
    "for i in range(0,len(arr)):\n",
    "    sum = sum + arr[i]\n",
    "    print('sum of array is', str(sum))"
   ]
  },
  {
   "cell_type": "markdown",
   "id": "858d56dd",
   "metadata": {},
   "source": [
    "QUESTION 02"
   ]
  },
  {
   "cell_type": "code",
   "execution_count": 17,
   "id": "68fbf0ba",
   "metadata": {},
   "outputs": [
    {
     "name": "stdout",
     "output_type": "stream",
     "text": [
      "largest element in the array is 89\n"
     ]
    }
   ],
   "source": [
    "arr = [24,89,67,55,59]\n",
    "max = arr[0]\n",
    "for i in range(0,len(arr)):\n",
    "    if(arr[i]>max):\n",
    "        max = arr[i]\n",
    "        print('largest element in the array is',str(max))"
   ]
  },
  {
   "cell_type": "markdown",
   "id": "cb085cf0",
   "metadata": {},
   "source": [
    "QUESTION 03"
   ]
  },
  {
   "cell_type": "code",
   "execution_count": 23,
   "id": "acf66fdf",
   "metadata": {},
   "outputs": [
    {
     "name": "stdout",
     "output_type": "stream",
     "text": [
      "original array\n",
      "24\n",
      "89\n",
      "67\n",
      "55\n",
      "59\n",
      "\n",
      "\n",
      "\n",
      "\n",
      "89\n",
      "67\n",
      "55\n",
      "24\n",
      "24\n"
     ]
    }
   ],
   "source": [
    "arr = [24,89,67,55,59]\n",
    "n = 3\n",
    "print('original array')\n",
    "for i in range(0,len(arr)):\n",
    "    print(arr[i])\n",
    "for i in range(0,n):\n",
    "    first = arr[0]\n",
    "for j in range(0,len(arr)-1):\n",
    "    arr[j]=arr[j+1]\n",
    "    arr[len(arr)-1]= first\n",
    "    print()\n",
    "for i in range(0,len(arr)):\n",
    "    print(arr[i])"
   ]
  },
  {
   "cell_type": "markdown",
   "id": "3aa9ae9c",
   "metadata": {},
   "source": [
    "QUESTION 04"
   ]
  },
  {
   "cell_type": "code",
   "execution_count": 29,
   "id": "898779b4",
   "metadata": {},
   "outputs": [],
   "source": [
    "def splitarray(arr,n,k):\n",
    "    for i in range(0,k):\n",
    "        x = arr[0]\n",
    "    for j in range(0,n-1):\n",
    "        arr[j] = att[j + 1]\n",
    "        arr[n-1] = x\n",
    "        arr = [12,23,56,34,88]\n",
    "        n = len(arr)\n",
    "        position = 2\n",
    "        splitarray(arr,n,position)\n",
    "    for i in range(0,n):\n",
    "        print(arr[i], end = ' ')"
   ]
  },
  {
   "cell_type": "markdown",
   "id": "38e41395",
   "metadata": {},
   "source": [
    "QUESTION 05"
   ]
  },
  {
   "cell_type": "code",
   "execution_count": null,
   "id": "2fff35c7",
   "metadata": {},
   "outputs": [],
   "source": [
    "A = int(input(*args)\n",
    "        print(monotonic(a))"
   ]
  }
 ],
 "metadata": {
  "kernelspec": {
   "display_name": "Python 3 (ipykernel)",
   "language": "python",
   "name": "python3"
  },
  "language_info": {
   "codemirror_mode": {
    "name": "ipython",
    "version": 3
   },
   "file_extension": ".py",
   "mimetype": "text/x-python",
   "name": "python",
   "nbconvert_exporter": "python",
   "pygments_lexer": "ipython3",
   "version": "3.9.7"
  }
 },
 "nbformat": 4,
 "nbformat_minor": 5
}
