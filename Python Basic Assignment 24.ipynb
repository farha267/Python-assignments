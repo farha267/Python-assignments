{
 "cells": [
  {
   "cell_type": "markdown",
   "id": "a3b0a665",
   "metadata": {},
   "source": [
    "# Python Basic Assignment 24"
   ]
  },
  {
   "cell_type": "markdown",
   "id": "a24e72cb",
   "metadata": {},
   "source": [
    "QUESTION 01"
   ]
  },
  {
   "cell_type": "markdown",
   "id": "1e42d538",
   "metadata": {},
   "source": [
    "The body of a lambda is single statement \n",
    "but body of def, statement hav more statements "
   ]
  },
  {
   "cell_type": "markdown",
   "id": "62ee36b3",
   "metadata": {},
   "source": [
    "QUESTION 02"
   ]
  },
  {
   "cell_type": "markdown",
   "id": "98af5ed8",
   "metadata": {},
   "source": [
    "Allows us to create single line of functions and save time and space in our code"
   ]
  },
  {
   "cell_type": "markdown",
   "id": "f2b586ac",
   "metadata": {},
   "source": [
    "QUESTION 04"
   ]
  },
  {
   "cell_type": "markdown",
   "id": "ae7644c5",
   "metadata": {},
   "source": [
    "it provide a way of associating various parts of a function with arbitary python expression at compile time"
   ]
  },
  {
   "cell_type": "markdown",
   "id": "5fafaec8",
   "metadata": {},
   "source": [
    "QUESTION 05"
   ]
  },
  {
   "cell_type": "markdown",
   "id": "4bdeebe7",
   "metadata": {},
   "source": [
    "recursive function aloows us to efficient code writting it can be used to solve tasks in elegant ways"
   ]
  },
  {
   "cell_type": "markdown",
   "id": "d5c2752b",
   "metadata": {},
   "source": [
    "QUESTION 06"
   ]
  },
  {
   "cell_type": "markdown",
   "id": "a37d89b3",
   "metadata": {},
   "source": [
    "Call by reference or call by value are the methods used to call the functions "
   ]
  },
  {
   "cell_type": "code",
   "execution_count": null,
   "id": "266e578d",
   "metadata": {},
   "outputs": [],
   "source": []
  }
 ],
 "metadata": {
  "kernelspec": {
   "display_name": "Python 3 (ipykernel)",
   "language": "python",
   "name": "python3"
  },
  "language_info": {
   "codemirror_mode": {
    "name": "ipython",
    "version": 3
   },
   "file_extension": ".py",
   "mimetype": "text/x-python",
   "name": "python",
   "nbconvert_exporter": "python",
   "pygments_lexer": "ipython3",
   "version": "3.9.7"
  }
 },
 "nbformat": 4,
 "nbformat_minor": 5
}
