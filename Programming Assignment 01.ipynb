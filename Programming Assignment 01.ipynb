{
 "cells": [
  {
   "cell_type": "markdown",
   "id": "ef20e8f2",
   "metadata": {},
   "source": [
    "# ASSIGNMENT 01"
   ]
  },
  {
   "cell_type": "markdown",
   "id": "032acfcd",
   "metadata": {},
   "source": [
    "QUESTION 01"
   ]
  },
  {
   "cell_type": "code",
   "execution_count": 2,
   "id": "1c641425",
   "metadata": {},
   "outputs": [
    {
     "name": "stdout",
     "output_type": "stream",
     "text": [
      "Hello python\n"
     ]
    }
   ],
   "source": [
    "print('Hello python')"
   ]
  },
  {
   "cell_type": "markdown",
   "id": "76df3cc6",
   "metadata": {},
   "source": [
    "QUESTION 02"
   ]
  },
  {
   "cell_type": "code",
   "execution_count": 8,
   "id": "f844c8b0",
   "metadata": {},
   "outputs": [
    {
     "name": "stdout",
     "output_type": "stream",
     "text": [
      "Enter number 1: 20\n",
      "Enter number 2: 5\n",
      "25\n",
      "4.0\n"
     ]
    }
   ],
   "source": [
    "num1 = int(input('Enter number 1: '))\n",
    "num2 = int(input('Enter number 2: '))\n",
    "add = num1 + num2\n",
    "print(add)\n",
    "div = num1/num2\n",
    "print(div)"
   ]
  },
  {
   "cell_type": "markdown",
   "id": "7607aefe",
   "metadata": {},
   "source": [
    "QUESTION 03"
   ]
  },
  {
   "cell_type": "code",
   "execution_count": 10,
   "id": "53f00488",
   "metadata": {},
   "outputs": [
    {
     "name": "stdout",
     "output_type": "stream",
     "text": [
      "enter base of a triangle: 5\n",
      "enter height of a triangle: 6\n",
      "45.0\n"
     ]
    }
   ],
   "source": [
    "b = int(input('enter base of a triangle: '))\n",
    "h = int(input('enter height of a triangle: '))\n",
    "area = 1.5*b*h\n",
    "print(area)"
   ]
  },
  {
   "cell_type": "markdown",
   "id": "9bdad794",
   "metadata": {},
   "source": [
    "QUESTION 04"
   ]
  },
  {
   "cell_type": "code",
   "execution_count": 25,
   "id": "c2bf885d",
   "metadata": {},
   "outputs": [
    {
     "name": "stdout",
     "output_type": "stream",
     "text": [
      "frst number x : 5\n",
      "second number y : 8\n",
      "the value of x after swaping is 8:\n",
      "the value of y after swaping is 5:\n"
     ]
    }
   ],
   "source": [
    "x = int(input('frst number x : '))\n",
    "y = int(input('second number y : '))\n",
    "swap = x\n",
    "x = y\n",
    "y = swap\n",
    "print('the value of x after swaping is {}:'.format(x))\n",
    "print('the value of y after swaping is {}:'.format(y))"
   ]
  },
  {
   "cell_type": "markdown",
   "id": "4df3379b",
   "metadata": {},
   "source": [
    "QUESTION 05"
   ]
  },
  {
   "cell_type": "code",
   "execution_count": 14,
   "id": "06fbd5b9",
   "metadata": {},
   "outputs": [],
   "source": [
    "import random"
   ]
  },
  {
   "cell_type": "code",
   "execution_count": 15,
   "id": "71d0f5f0",
   "metadata": {},
   "outputs": [
    {
     "name": "stdout",
     "output_type": "stream",
     "text": [
      "27\n"
     ]
    }
   ],
   "source": [
    "print(random.randint(5,50))"
   ]
  },
  {
   "cell_type": "code",
   "execution_count": 16,
   "id": "e9a3a6c8",
   "metadata": {},
   "outputs": [
    {
     "name": "stdout",
     "output_type": "stream",
     "text": [
      "1127\n"
     ]
    }
   ],
   "source": [
    "print(random.randint(100,2000))"
   ]
  },
  {
   "cell_type": "code",
   "execution_count": null,
   "id": "3a38303e",
   "metadata": {},
   "outputs": [],
   "source": []
  }
 ],
 "metadata": {
  "kernelspec": {
   "display_name": "Python 3 (ipykernel)",
   "language": "python",
   "name": "python3"
  },
  "language_info": {
   "codemirror_mode": {
    "name": "ipython",
    "version": 3
   },
   "file_extension": ".py",
   "mimetype": "text/x-python",
   "name": "python",
   "nbconvert_exporter": "python",
   "pygments_lexer": "ipython3",
   "version": "3.9.7"
  }
 },
 "nbformat": 4,
 "nbformat_minor": 5
}
