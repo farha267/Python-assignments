{
 "cells": [
  {
   "cell_type": "markdown",
   "id": "683096ed",
   "metadata": {},
   "source": [
    "# Python Advanced Assignment 05"
   ]
  },
  {
   "cell_type": "markdown",
   "id": "8b3472a6",
   "metadata": {},
   "source": [
    "QUESTION 01"
   ]
  },
  {
   "cell_type": "markdown",
   "id": "b2a495df",
   "metadata": {},
   "source": [
    "In which an object or class, can inherit features from more than one parent class."
   ]
  },
  {
   "cell_type": "markdown",
   "id": "32da8564",
   "metadata": {},
   "source": [
    "QUESTION 02"
   ]
  },
  {
   "cell_type": "markdown",
   "id": "19807fac",
   "metadata": {},
   "source": [
    "It allows object composition to achieve the same code reuse as inheritance."
   ]
  },
  {
   "cell_type": "markdown",
   "id": "59828395",
   "metadata": {},
   "source": [
    "QUESTION 03"
   ]
  },
  {
   "cell_type": "markdown",
   "id": "90e61da1",
   "metadata": {},
   "source": [
    "It helps creating complex types by combining objects of other types. this means one class, object can contain an object of another class"
   ]
  },
  {
   "cell_type": "markdown",
   "id": "1fe668e0",
   "metadata": {},
   "source": [
    "QUESTION 04"
   ]
  },
  {
   "cell_type": "markdown",
   "id": "0211012f",
   "metadata": {},
   "source": [
    "A bound method is one which dependend on instance of a class as the first argument, which is used to access the other variables of a class."
   ]
  },
  {
   "cell_type": "markdown",
   "id": "9f6db9b6",
   "metadata": {},
   "source": [
    "QUESTION 05"
   ]
  },
  {
   "cell_type": "markdown",
   "id": "6feacdf6",
   "metadata": {},
   "source": [
    "This feature is mostly intended to avoid namespaces, collisions in instances, not to restrict access to names in general."
   ]
  }
 ],
 "metadata": {
  "kernelspec": {
   "display_name": "Python 3 (ipykernel)",
   "language": "python",
   "name": "python3"
  },
  "language_info": {
   "codemirror_mode": {
    "name": "ipython",
    "version": 3
   },
   "file_extension": ".py",
   "mimetype": "text/x-python",
   "name": "python",
   "nbconvert_exporter": "python",
   "pygments_lexer": "ipython3",
   "version": "3.9.7"
  }
 },
 "nbformat": 4,
 "nbformat_minor": 5
}
