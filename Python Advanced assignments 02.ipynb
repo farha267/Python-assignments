{
 "cells": [
  {
   "cell_type": "markdown",
   "id": "6a23d139",
   "metadata": {},
   "source": [
    "# Python Advanced Assignment 02"
   ]
  },
  {
   "cell_type": "markdown",
   "id": "74191151",
   "metadata": {},
   "source": [
    "QUESTION 01"
   ]
  },
  {
   "cell_type": "markdown",
   "id": "926b5f3c",
   "metadata": {},
   "source": [
    "Classes may hav objects or variables \n",
    "Modules may be mixed in to classes and other modules"
   ]
  },
  {
   "cell_type": "markdown",
   "id": "fd4dd89a",
   "metadata": {},
   "source": [
    "QUESTION 02"
   ]
  },
  {
   "cell_type": "markdown",
   "id": "832216e7",
   "metadata": {},
   "source": [
    "To create instances of a class using a classname and pass the arguments its __init__ method accepts"
   ]
  },
  {
   "cell_type": "markdown",
   "id": "ec7d0fe4",
   "metadata": {},
   "source": [
    "QUESTION 03"
   ]
  },
  {
   "cell_type": "markdown",
   "id": "a82d7054",
   "metadata": {},
   "source": [
    "Class attributes must be created or defined in body of a class and defined inside the constructor function of a class"
   ]
  },
  {
   "cell_type": "markdown",
   "id": "b8d782bf",
   "metadata": {},
   "source": [
    "QUESTION 04"
   ]
  },
  {
   "cell_type": "markdown",
   "id": "7ad705d5",
   "metadata": {},
   "source": [
    "Instance attributes are attached to an instance of a class. instance attributes are defines in the constructor using self parameter"
   ]
  },
  {
   "cell_type": "markdown",
   "id": "ad3005f2",
   "metadata": {},
   "source": [
    "QUESTION 05"
   ]
  },
  {
   "cell_type": "markdown",
   "id": "5a4c4088",
   "metadata": {},
   "source": [
    "Self is the pointer variable where we can access the attributes and methods of the class in python. The reason we need to use self is because python does not use the @ syntax to refer instance attributes"
   ]
  },
  {
   "cell_type": "markdown",
   "id": "4ac2103f",
   "metadata": {},
   "source": [
    "QUESTION 06"
   ]
  },
  {
   "cell_type": "markdown",
   "id": "a3e6c0d4",
   "metadata": {},
   "source": [
    "Operator overloading means giving extended meaning beyond their predefined operational meaning.\n",
    "Adding one or more methods in a class"
   ]
  },
  {
   "cell_type": "markdown",
   "id": "08ee315e",
   "metadata": {},
   "source": [
    "QUESTION 07"
   ]
  },
  {
   "cell_type": "code",
   "execution_count": null,
   "id": "c42fbaa3",
   "metadata": {},
   "outputs": [],
   "source": []
  },
  {
   "cell_type": "markdown",
   "id": "cb946e30",
   "metadata": {},
   "source": [
    "QUESTION 08"
   ]
  },
  {
   "cell_type": "markdown",
   "id": "87f365e8",
   "metadata": {},
   "source": [
    "Most popular operator is + operator "
   ]
  },
  {
   "cell_type": "markdown",
   "id": "6ac3eed1",
   "metadata": {},
   "source": [
    "QUESTION 09"
   ]
  },
  {
   "cell_type": "markdown",
   "id": "cc78d50d",
   "metadata": {},
   "source": [
    "The two most concepts are inheritance and polymorphism, these concepts help us to create code that can be extended easily maintained"
   ]
  },
  {
   "cell_type": "code",
   "execution_count": null,
   "id": "ead4fd93",
   "metadata": {},
   "outputs": [],
   "source": []
  }
 ],
 "metadata": {
  "kernelspec": {
   "display_name": "Python 3 (ipykernel)",
   "language": "python",
   "name": "python3"
  },
  "language_info": {
   "codemirror_mode": {
    "name": "ipython",
    "version": 3
   },
   "file_extension": ".py",
   "mimetype": "text/x-python",
   "name": "python",
   "nbconvert_exporter": "python",
   "pygments_lexer": "ipython3",
   "version": "3.9.7"
  }
 },
 "nbformat": 4,
 "nbformat_minor": 5
}
