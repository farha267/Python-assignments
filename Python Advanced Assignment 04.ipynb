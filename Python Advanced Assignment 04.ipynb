{
 "cells": [
  {
   "cell_type": "markdown",
   "id": "8aad9a06",
   "metadata": {},
   "source": [
    "# Python Advanced Assignment 04"
   ]
  },
  {
   "cell_type": "markdown",
   "id": "4829c401",
   "metadata": {},
   "source": [
    "QUESTION 01"
   ]
  },
  {
   "cell_type": "markdown",
   "id": "635e0fe6",
   "metadata": {},
   "source": [
    "+ operaror ans __add__ operator is used in overloading"
   ]
  },
  {
   "cell_type": "markdown",
   "id": "db3e54d9",
   "metadata": {},
   "source": [
    "QUESTION 02"
   ]
  },
  {
   "cell_type": "markdown",
   "id": "aab738b7",
   "metadata": {},
   "source": [
    "Two operator overloading methods manage printing by using print() function"
   ]
  },
  {
   "cell_type": "markdown",
   "id": "51af2e82",
   "metadata": {},
   "source": [
    "QUESTION 03"
   ]
  },
  {
   "cell_type": "markdown",
   "id": "d7757958",
   "metadata": {},
   "source": [
    "__setitem__ , __getitem__ , __delitem__ is used to intercept slice items in classes"
   ]
  },
  {
   "cell_type": "markdown",
   "id": "573fd708",
   "metadata": {},
   "source": [
    "QUESTION 04"
   ]
  },
  {
   "cell_type": "markdown",
   "id": "5a8ca8b7",
   "metadata": {},
   "source": [
    "We use __iadd__ (self, other variables) is used to capture addition"
   ]
  },
  {
   "cell_type": "markdown",
   "id": "e34e6cb3",
   "metadata": {},
   "source": [
    "QUESTION 05"
   ]
  },
  {
   "cell_type": "markdown",
   "id": "d985f3fd",
   "metadata": {},
   "source": [
    "When we are making new class that exists, in abstract class, we use operator overloading."
   ]
  },
  {
   "cell_type": "code",
   "execution_count": null,
   "id": "b2bb1435",
   "metadata": {},
   "outputs": [],
   "source": []
  }
 ],
 "metadata": {
  "kernelspec": {
   "display_name": "Python 3 (ipykernel)",
   "language": "python",
   "name": "python3"
  },
  "language_info": {
   "codemirror_mode": {
    "name": "ipython",
    "version": 3
   },
   "file_extension": ".py",
   "mimetype": "text/x-python",
   "name": "python",
   "nbconvert_exporter": "python",
   "pygments_lexer": "ipython3",
   "version": "3.9.7"
  }
 },
 "nbformat": 4,
 "nbformat_minor": 5
}
