{
 "cells": [
  {
   "cell_type": "markdown",
   "id": "14c10f37",
   "metadata": {},
   "source": [
    "# Programming Assignment 06"
   ]
  },
  {
   "cell_type": "markdown",
   "id": "8273de6d",
   "metadata": {},
   "source": [
    "QUESTION 01"
   ]
  },
  {
   "cell_type": "code",
   "execution_count": 3,
   "id": "ac8a1c6e",
   "metadata": {},
   "outputs": [
    {
     "name": "stdout",
     "output_type": "stream",
     "text": [
      "fibonacci sequence: \n",
      "1\n",
      "1\n",
      "2\n",
      "3\n",
      "5\n",
      "8\n",
      "13\n",
      "21\n",
      "34\n",
      "55\n"
     ]
    }
   ],
   "source": [
    "def fibo(n):\n",
    "    if n <=1:\n",
    "        return 1\n",
    "    else:\n",
    "        return(fibo(n-1)+ fibo(n-2))\n",
    "nterms = 10\n",
    "if nterms <= 0 :\n",
    "    print('please enter a positie numbver')\n",
    "else:\n",
    "    print('fibonacci sequence: ')\n",
    "    for i in range(nterms):\n",
    "        print(fibo(i))\n"
   ]
  },
  {
   "cell_type": "markdown",
   "id": "5e36d1f9",
   "metadata": {},
   "source": [
    "QUESTION 02"
   ]
  },
  {
   "cell_type": "code",
   "execution_count": 1,
   "id": "20ebfed1",
   "metadata": {},
   "outputs": [
    {
     "name": "stdout",
     "output_type": "stream",
     "text": [
      "enter the number 5\n",
      "the factorial of number 5 is 120\n"
     ]
    }
   ],
   "source": [
    "def recur_fact(n):\n",
    "    if n == 1:\n",
    "        return n\n",
    "    else:\n",
    "        return n*recur_fact(n-1)\n",
    "num = int(input('enter the number '))\n",
    "if num < 0:\n",
    "    print('no favtorial for negative number')\n",
    "elif num == 0:\n",
    "    print('the factorial of 0 is 1')\n",
    "else:\n",
    "    print('the factorial of number',num, 'is',recur_fact(num))"
   ]
  },
  {
   "cell_type": "markdown",
   "id": "2d44831c",
   "metadata": {},
   "source": [
    "QUESTION 03"
   ]
  },
  {
   "cell_type": "code",
   "execution_count": 2,
   "id": "9c5eee3c",
   "metadata": {},
   "outputs": [
    {
     "name": "stdout",
     "output_type": "stream",
     "text": [
      "enter height 5\n",
      "enter weight 68\n",
      "the body mass index of a person is 13.6\n"
     ]
    }
   ],
   "source": [
    "h = int(input('enter height '))\n",
    "w = int(input('enter weight '))\n",
    "body_mass = w/h\n",
    "print('the body mass index of a person is', body_mass)"
   ]
  },
  {
   "cell_type": "markdown",
   "id": "967333b5",
   "metadata": {},
   "source": [
    "QUESTION 04"
   ]
  },
  {
   "cell_type": "code",
   "execution_count": 3,
   "id": "c3a740d5",
   "metadata": {},
   "outputs": [],
   "source": [
    "import math"
   ]
  },
  {
   "cell_type": "code",
   "execution_count": 6,
   "id": "b947c37d",
   "metadata": {},
   "outputs": [
    {
     "name": "stdout",
     "output_type": "stream",
     "text": [
      "enter the number 6\n",
      "the logarithm of a number is 1.791759469228055\n"
     ]
    }
   ],
   "source": [
    "n = int(input('enter the number '))\n",
    "print('the logarithm of a number is', math.log(n))"
   ]
  },
  {
   "cell_type": "markdown",
   "id": "2ae4d168",
   "metadata": {},
   "source": [
    "QUESTION 05"
   ]
  },
  {
   "cell_type": "code",
   "execution_count": 7,
   "id": "d0763061",
   "metadata": {},
   "outputs": [
    {
     "name": "stdout",
     "output_type": "stream",
     "text": [
      "<function sumofcubes at 0x000002CDB3016940>\n"
     ]
    }
   ],
   "source": [
    "def sumofcubes(n):\n",
    "    x = (n*(n-1)/2)\n",
    "    return (int(x*x))\n",
    "n = 3\n",
    "print(sumofcubes)"
   ]
  },
  {
   "cell_type": "code",
   "execution_count": 8,
   "id": "1b62513f",
   "metadata": {},
   "outputs": [
    {
     "data": {
      "text/plain": [
       "784"
      ]
     },
     "execution_count": 8,
     "metadata": {},
     "output_type": "execute_result"
    }
   ],
   "source": [
    "sumofcubes(8)"
   ]
  },
  {
   "cell_type": "code",
   "execution_count": null,
   "id": "3252bc46",
   "metadata": {},
   "outputs": [],
   "source": []
  }
 ],
 "metadata": {
  "kernelspec": {
   "display_name": "Python 3 (ipykernel)",
   "language": "python",
   "name": "python3"
  },
  "language_info": {
   "codemirror_mode": {
    "name": "ipython",
    "version": 3
   },
   "file_extension": ".py",
   "mimetype": "text/x-python",
   "name": "python",
   "nbconvert_exporter": "python",
   "pygments_lexer": "ipython3",
   "version": "3.9.7"
  }
 },
 "nbformat": 4,
 "nbformat_minor": 5
}
