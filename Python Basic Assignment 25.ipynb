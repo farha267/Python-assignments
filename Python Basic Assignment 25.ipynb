{
 "cells": [
  {
   "cell_type": "markdown",
   "id": "94f87f15",
   "metadata": {},
   "source": [
    "# Python Basic Assignment 25"
   ]
  },
  {
   "cell_type": "markdown",
   "id": "7ff587ff",
   "metadata": {},
   "source": [
    "QUESTION 01"
   ]
  },
  {
   "cell_type": "markdown",
   "id": "b03e204c",
   "metadata": {},
   "source": [
    "square brackets are lists while parenthesis are tuples,\n"
   ]
  },
  {
   "cell_type": "markdown",
   "id": "19501f4f",
   "metadata": {},
   "source": [
    "QUESTION 02"
   ]
  },
  {
   "cell_type": "markdown",
   "id": "8047745e",
   "metadata": {},
   "source": [
    "Iterators are used mostly to iterate or convert other objects to an iterator using iter()  Generators are mostly used in loops to generate an iterator by returning all the values in the loop without affecting the iteration of the loop"
   ]
  },
  {
   "cell_type": "markdown",
   "id": "eb8be8ed",
   "metadata": {},
   "source": [
    "QUESTION 03"
   ]
  },
  {
   "cell_type": "markdown",
   "id": "12fa7442",
   "metadata": {},
   "source": [
    "If a function contains at least one yield statement it becomes generator function"
   ]
  },
  {
   "cell_type": "markdown",
   "id": "e63838c7",
   "metadata": {},
   "source": [
    "QUESTION 04"
   ]
  },
  {
   "cell_type": "markdown",
   "id": "2f9b5fc7",
   "metadata": {},
   "source": [
    "yield statement looks much like a return statement, except that insteadf of stopping execution of the function and returning yield instead provides a value to the code looping over the generator function"
   ]
  },
  {
   "cell_type": "markdown",
   "id": "50aed25a",
   "metadata": {},
   "source": [
    "QUESTION 05"
   ]
  },
  {
   "cell_type": "markdown",
   "id": "c4a28a4b",
   "metadata": {},
   "source": [
    "List comprehension is more concise and easier to read map only retirns the map object and does not return any list"
   ]
  },
  {
   "cell_type": "code",
   "execution_count": null,
   "id": "33bcca8c",
   "metadata": {},
   "outputs": [],
   "source": []
  }
 ],
 "metadata": {
  "kernelspec": {
   "display_name": "Python 3 (ipykernel)",
   "language": "python",
   "name": "python3"
  },
  "language_info": {
   "codemirror_mode": {
    "name": "ipython",
    "version": 3
   },
   "file_extension": ".py",
   "mimetype": "text/x-python",
   "name": "python",
   "nbconvert_exporter": "python",
   "pygments_lexer": "ipython3",
   "version": "3.9.7"
  }
 },
 "nbformat": 4,
 "nbformat_minor": 5
}
