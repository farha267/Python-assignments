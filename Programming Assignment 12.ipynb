{
 "cells": [
  {
   "cell_type": "markdown",
   "id": "7a5e59ae",
   "metadata": {},
   "source": [
    "QUESTION 01"
   ]
  },
  {
   "cell_type": "code",
   "execution_count": 2,
   "id": "0775180b",
   "metadata": {},
   "outputs": [
    {
     "name": "stdout",
     "output_type": "stream",
     "text": [
      "Dictionary =  {'scala': 2, 'javascript': 1, 'python': 8, 'c++': 1, 'java': 4}\n",
      "uniquevalues =   \n",
      "[8, 1, 2, 4]\n"
     ]
    }
   ],
   "source": [
    "mydict = {'scala': 2, 'javascript':1,'python': 8,'c++': 1,'java': 4}\n",
    "uniquevalues = list({val for val in mydict.values()})\n",
    "print(\"Dictionary = \", end = \" \")\n",
    "print(mydict)\n",
    "print(\"uniquevalues = \", \" \")\n",
    "print(uniquevalues)\n",
    "      "
   ]
  },
  {
   "cell_type": "markdown",
   "id": "2313daae",
   "metadata": {},
   "source": [
    "QUESTION 02"
   ]
  },
  {
   "cell_type": "code",
   "execution_count": 3,
   "id": "746688ad",
   "metadata": {},
   "outputs": [
    {
     "name": "stdout",
     "output_type": "stream",
     "text": [
      "total sum of all the values in the dict: \n",
      "1200\n"
     ]
    }
   ],
   "source": [
    "d = {'a': 100,'b': 300,'c': 200,'d': 600}\n",
    "print(\"total sum of all the values in the dict: \")\n",
    "print(sum(d.values()))"
   ]
  },
  {
   "cell_type": "markdown",
   "id": "baea6981",
   "metadata": {},
   "source": [
    "QUESTION 03"
   ]
  },
  {
   "cell_type": "code",
   "execution_count": 8,
   "id": "784d2a39",
   "metadata": {},
   "outputs": [
    {
     "name": "stdout",
     "output_type": "stream",
     "text": [
      "{'scala': 2, 'javascript': 1, 'python': 8, 'c++': 1, 'java': 4, 'a': 100, 'b': 300, 'c': 200, 'd': 600}\n"
     ]
    }
   ],
   "source": [
    "mydict = {'scala': 2, 'javascript':1,'python': 8,'c++': 1,'java': 4}\n",
    "d = {'a': 100,'b': 300,'c': 200,'d': 600}\n",
    "mydict.update(d)\n",
    "print(mydict)"
   ]
  },
  {
   "cell_type": "markdown",
   "id": "2c9690c4",
   "metadata": {},
   "source": [
    "QUESTION 04"
   ]
  },
  {
   "cell_type": "code",
   "execution_count": 9,
   "id": "3e8acbd3",
   "metadata": {},
   "outputs": [],
   "source": [
    "from itertools import product"
   ]
  },
  {
   "cell_type": "code",
   "execution_count": 13,
   "id": "9162751c",
   "metadata": {},
   "outputs": [
    {
     "name": "stdout",
     "output_type": "stream",
     "text": [
      "the original dictionary is {'month': [1, 2, 3], 'name': ['jan', 'feb', 'mar']}\n",
      "flattened dictionary is:  {1: 'jan', 2: 'feb', 3: 'mar'}\n"
     ]
    }
   ],
   "source": [
    "test_dict = {'month': [1,2,3],'name': ['jan','feb','mar']}\n",
    "print(\"the original dictionary is\", test_dict)\n",
    "res = dict(zip(test_dict['month'],test_dict['name']))\n",
    "print(\"flattened dictionary is: \",res)"
   ]
  },
  {
   "cell_type": "markdown",
   "id": "9aa0d765",
   "metadata": {},
   "source": [
    "QUESTION 05"
   ]
  },
  {
   "cell_type": "code",
   "execution_count": 22,
   "id": "c6b08027",
   "metadata": {},
   "outputs": [],
   "source": [
    "from collections import OrderedDict"
   ]
  },
  {
   "cell_type": "code",
   "execution_count": 21,
   "id": "7c7bcde6",
   "metadata": {},
   "outputs": [
    {
     "name": "stdout",
     "output_type": "stream",
     "text": [
      "Resul dictionary  OrderedDict([('e', '500'), ('a', 100), ('b', 300), ('c', 200), ('d', 600)])\n"
     ]
    }
   ],
   "source": [
    "d = {'a': 100,'b': 300,'c': 200,'d': 600}\n",
    "insrt = OrderedDict([('e','500')])\n",
    "final = OrderedDict(list(insrt.items()) + list(d.items()))\n",
    "print(\"Resul dictionary \",final)"
   ]
  },
  {
   "cell_type": "markdown",
   "id": "09ac1137",
   "metadata": {},
   "source": [
    "QUESTION 06"
   ]
  },
  {
   "cell_type": "code",
   "execution_count": 23,
   "id": "1e49f81c",
   "metadata": {},
   "outputs": [
    {
     "name": "stdout",
     "output_type": "stream",
     "text": [
      "OrderedDict([('c++', 1), ('java', 4), ('javascript', 1), ('python', 8), ('scala', 2)])\n"
     ]
    }
   ],
   "source": [
    "mydict = {'scala': 2, 'javascript':1,'python': 8,'c++': 1,'java': 4}\n",
    "dict1 = OrderedDict(sorted(mydict.items()))\n",
    "print(dict1)"
   ]
  },
  {
   "cell_type": "code",
   "execution_count": null,
   "id": "b38518f0",
   "metadata": {},
   "outputs": [],
   "source": []
  }
 ],
 "metadata": {
  "kernelspec": {
   "display_name": "Python 3 (ipykernel)",
   "language": "python",
   "name": "python3"
  },
  "language_info": {
   "codemirror_mode": {
    "name": "ipython",
    "version": 3
   },
   "file_extension": ".py",
   "mimetype": "text/x-python",
   "name": "python",
   "nbconvert_exporter": "python",
   "pygments_lexer": "ipython3",
   "version": "3.9.7"
  }
 },
 "nbformat": 4,
 "nbformat_minor": 5
}
