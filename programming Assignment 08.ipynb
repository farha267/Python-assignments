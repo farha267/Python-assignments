{
 "cells": [
  {
   "cell_type": "markdown",
   "id": "f40eb682",
   "metadata": {},
   "source": [
    "# Programming Assignment 08"
   ]
  },
  {
   "cell_type": "markdown",
   "id": "ad2ee7b0",
   "metadata": {},
   "source": [
    "QUESTION 01"
   ]
  },
  {
   "cell_type": "code",
   "execution_count": 1,
   "id": "8dcdb7d2",
   "metadata": {},
   "outputs": [
    {
     "name": "stdout",
     "output_type": "stream",
     "text": [
      "[17, 15, 4]\n",
      "[10, 12, 9]\n",
      "[11, 13, 18]\n"
     ]
    }
   ],
   "source": [
    "x = [[12,7,3],\n",
    "    [4,5,6],\n",
    "     [7,8,9]]\n",
    "y = [[5,8,1],\n",
    "    [6,7,3],\n",
    "    [4,5,9]]\n",
    "result = [[0,0,0],\n",
    "         [0,0,0],\n",
    "         [0,0,0]]\n",
    "for i in range(len(x)):\n",
    "    for j in range(len(x[0])):\n",
    "        result[i][j] = x[i][j] + y[i][j]\n",
    "for r in result:\n",
    "    print(r)"
   ]
  },
  {
   "cell_type": "markdown",
   "id": "ae3504fa",
   "metadata": {},
   "source": [
    "QUESTION 02"
   ]
  },
  {
   "cell_type": "code",
   "execution_count": 2,
   "id": "4622fb28",
   "metadata": {},
   "outputs": [
    {
     "name": "stdout",
     "output_type": "stream",
     "text": [
      "[60, 56, 3]\n",
      "[24, 35, 18]\n",
      "[28, 40, 81]\n"
     ]
    }
   ],
   "source": [
    "x = [[12,7,3],\n",
    "    [4,5,6],\n",
    "     [7,8,9]]\n",
    "y = [[5,8,1],\n",
    "    [6,7,3],\n",
    "    [4,5,9]]\n",
    "result = [[0,0,0],\n",
    "         [0,0,0],\n",
    "         [0,0,0]]\n",
    "for i in range(len(x)):\n",
    "    for j in range(len(x[0])):\n",
    "        result[i][j] = x[i][j] * y[i][j]\n",
    "for r in result:\n",
    "    print(r)"
   ]
  },
  {
   "cell_type": "markdown",
   "id": "8dfb3d5e",
   "metadata": {},
   "source": [
    "QUESTION 03"
   ]
  },
  {
   "cell_type": "code",
   "execution_count": 3,
   "id": "b38b51ce",
   "metadata": {},
   "outputs": [
    {
     "name": "stdout",
     "output_type": "stream",
     "text": [
      "[12, 4, 7]\n",
      "[7, 5, 8]\n"
     ]
    }
   ],
   "source": [
    "x = [[12,7],\n",
    "    [4,5],\n",
    "     [7,8]]\n",
    "\n",
    "result = [[0,0,0],\n",
    "         [0,0,0]]\n",
    "         \n",
    "for i in range(len(x)):\n",
    "    for j in range(len(x[0])):\n",
    "        result[j][i] = x[i][j]\n",
    "for r in result:\n",
    "    print(r)"
   ]
  },
  {
   "cell_type": "markdown",
   "id": "fd37a2a1",
   "metadata": {},
   "source": [
    "QUESTION 04"
   ]
  },
  {
   "cell_type": "code",
   "execution_count": 7,
   "id": "610f2a23",
   "metadata": {},
   "outputs": [
    {
     "name": "stdout",
     "output_type": "stream",
     "text": [
      "enter the string my python program for sorting\n",
      "the sorted words are \n",
      "['for', 'my', 'program', 'python', 'sorting']\n",
      "['for', 'my', 'program', 'python', 'sorting']\n",
      "['for', 'my', 'program', 'python', 'sorting']\n",
      "['for', 'my', 'program', 'python', 'sorting']\n",
      "['for', 'my', 'program', 'python', 'sorting']\n"
     ]
    }
   ],
   "source": [
    "mystr = input('enter the string ')\n",
    "words = mystr.split()\n",
    "words.sort()\n",
    "print(\"the sorted words are \")\n",
    "for word in words:\n",
    "    print(words)"
   ]
  },
  {
   "cell_type": "markdown",
   "id": "be1f00c5",
   "metadata": {},
   "source": [
    "QUESTION 05"
   ]
  },
  {
   "cell_type": "code",
   "execution_count": 11,
   "id": "61c8090f",
   "metadata": {},
   "outputs": [
    {
     "name": "stdout",
     "output_type": "stream",
     "text": [
      "enter the string 'hello, he said that, he's well!\n",
      " '\n",
      " 'h\n",
      " 'he\n",
      " 'hel\n",
      " 'hell\n",
      " 'hello\n",
      " 'hello,\n",
      " 'hello, \n",
      " 'hello, h\n",
      " 'hello, he\n",
      " 'hello, he \n",
      " 'hello, he s\n",
      " 'hello, he sa\n",
      " 'hello, he sai\n",
      " 'hello, he said\n",
      " 'hello, he said \n",
      " 'hello, he said t\n",
      " 'hello, he said th\n",
      " 'hello, he said tha\n",
      " 'hello, he said that\n",
      " 'hello, he said that,\n",
      " 'hello, he said that, \n",
      " 'hello, he said that, h\n",
      " 'hello, he said that, he\n",
      " 'hello, he said that, he'\n",
      " 'hello, he said that, he's\n",
      " 'hello, he said that, he's \n",
      " 'hello, he said that, he's w\n",
      " 'hello, he said that, he's we\n",
      " 'hello, he said that, he's wel\n",
      " 'hello, he said that, he's well\n",
      " 'hello, he said that, he's well!\n"
     ]
    }
   ],
   "source": [
    "mystr = input('enter the string ')\n",
    "punctuations = !@#$%^&*,\"\";:''*?\\/\n",
    "no_punct = \" \"\n",
    "for char in mystr:\n",
    "    if char not in punctuations:\n",
    "        no_punct = no_punct + char\n",
    "        print(no_punct)"
   ]
  },
  {
   "cell_type": "code",
   "execution_count": null,
   "id": "3f7981a7",
   "metadata": {},
   "outputs": [],
   "source": []
  }
 ],
 "metadata": {
  "kernelspec": {
   "display_name": "Python 3 (ipykernel)",
   "language": "python",
   "name": "python3"
  },
  "language_info": {
   "codemirror_mode": {
    "name": "ipython",
    "version": 3
   },
   "file_extension": ".py",
   "mimetype": "text/x-python",
   "name": "python",
   "nbconvert_exporter": "python",
   "pygments_lexer": "ipython3",
   "version": "3.9.7"
  }
 },
 "nbformat": 4,
 "nbformat_minor": 5
}
