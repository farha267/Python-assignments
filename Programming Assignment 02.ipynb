{
 "cells": [
  {
   "cell_type": "markdown",
   "id": "632d1eab",
   "metadata": {},
   "source": [
    "# PROGRAMMING ASSIGNMENT 02"
   ]
  },
  {
   "cell_type": "markdown",
   "id": "61733496",
   "metadata": {},
   "source": [
    "QUESTION 01"
   ]
  },
  {
   "cell_type": "code",
   "execution_count": 17,
   "id": "61939c9f",
   "metadata": {},
   "outputs": [],
   "source": [
    "import logging as lg\n",
    "lg.basicConfig(filename='test3.log', format= '%(asctime)s - %(levelname)s - %(message)s')\n",
    "def kilo2miles():\n",
    "    try:\n",
    "        kilos = int(input('enter the kilometers '))\n",
    "        miles = kilos/1.61\n",
    "        return(miles)\n",
    "    except Exception as e:\n",
    "        print(lg.error('this is the error occured', e))"
   ]
  },
  {
   "cell_type": "code",
   "execution_count": 18,
   "id": "857db004",
   "metadata": {},
   "outputs": [
    {
     "name": "stdout",
     "output_type": "stream",
     "text": [
      "enter the kilometers 300\n"
     ]
    },
    {
     "data": {
      "text/plain": [
       "186.33540372670805"
      ]
     },
     "execution_count": 18,
     "metadata": {},
     "output_type": "execute_result"
    }
   ],
   "source": [
    "kilo2miles()"
   ]
  },
  {
   "cell_type": "markdown",
   "id": "7ab8c620",
   "metadata": {},
   "source": [
    "QUESTION 02"
   ]
  },
  {
   "cell_type": "code",
   "execution_count": 21,
   "id": "d0cea5ae",
   "metadata": {},
   "outputs": [],
   "source": [
    "def cel2far():\n",
    "    try:\n",
    "        cel= int(input('enter the cel '))\n",
    "        far= cel*9/5+32\n",
    "        return(far)\n",
    "    except Exception as e:\n",
    "        print('this is the error occured', e)"
   ]
  },
  {
   "cell_type": "code",
   "execution_count": 22,
   "id": "5587d43d",
   "metadata": {},
   "outputs": [
    {
     "name": "stdout",
     "output_type": "stream",
     "text": [
      "enter the cel 45\n"
     ]
    },
    {
     "data": {
      "text/plain": [
       "113.0"
      ]
     },
     "execution_count": 22,
     "metadata": {},
     "output_type": "execute_result"
    }
   ],
   "source": [
    "cel2far()"
   ]
  },
  {
   "cell_type": "markdown",
   "id": "d0a9380d",
   "metadata": {},
   "source": [
    "QUESTION 03"
   ]
  },
  {
   "cell_type": "code",
   "execution_count": 35,
   "id": "ebb43350",
   "metadata": {},
   "outputs": [
    {
     "name": "stdout",
     "output_type": "stream",
     "text": [
      "enter the year 2021\n",
      "enter the month 11\n",
      "   November 2021\n",
      "Mo Tu We Th Fr Sa Su\n",
      " 1  2  3  4  5  6  7\n",
      " 8  9 10 11 12 13 14\n",
      "15 16 17 18 19 20 21\n",
      "22 23 24 25 26 27 28\n",
      "29 30\n",
      "\n"
     ]
    }
   ],
   "source": [
    "import calendar\n",
    "yy = 2021\n",
    "mm = 11\n",
    "y = input('enter the year ')\n",
    "m = input('enter the month ')\n",
    "print(calendar.month(yy,mm))"
   ]
  },
  {
   "cell_type": "markdown",
   "id": "d0ed615c",
   "metadata": {},
   "source": [
    "QUESTION 04"
   ]
  },
  {
   "cell_type": "code",
   "execution_count": 39,
   "id": "29899490",
   "metadata": {},
   "outputs": [],
   "source": [
    "import cmath"
   ]
  },
  {
   "cell_type": "code",
   "execution_count": 47,
   "id": "f5f37c42",
   "metadata": {},
   "outputs": [],
   "source": [
    "def quadractic():\n",
    "    a = 1\n",
    "    b = 4\n",
    "    c = 2\n",
    "    dis = (b**2) - (4*a*c)\n",
    "    sqrt1 = (-b-cmath.sqrt(dis))/(2*a)\n",
    "    sqrt2 = (-b+cmath.sqrt(dis))/(2*a)\n",
    "    print('the roots are', sqrt1,sqrt2)\n"
   ]
  },
  {
   "cell_type": "code",
   "execution_count": 48,
   "id": "623d7408",
   "metadata": {},
   "outputs": [
    {
     "name": "stdout",
     "output_type": "stream",
     "text": [
      "the roots are (-3.414213562373095+0j) (-0.5857864376269049+0j)\n"
     ]
    }
   ],
   "source": [
    "quadractic()"
   ]
  },
  {
   "cell_type": "markdown",
   "id": "8863bd8a",
   "metadata": {},
   "source": [
    "QUESTION 05"
   ]
  },
  {
   "cell_type": "code",
   "execution_count": 49,
   "id": "800b62bd",
   "metadata": {},
   "outputs": [
    {
     "name": "stdout",
     "output_type": "stream",
     "text": [
      "enter the frst number 6\n",
      "enter the second number 4\n",
      "the value of x  4 and y 6\n"
     ]
    }
   ],
   "source": [
    "x = input('enter the frst number ')\n",
    "y = input('enter the second number ')\n",
    "x,y = y,x\n",
    "print('the value of x ',x,'and y',y)"
   ]
  },
  {
   "cell_type": "code",
   "execution_count": null,
   "id": "6394bf12",
   "metadata": {},
   "outputs": [],
   "source": []
  }
 ],
 "metadata": {
  "kernelspec": {
   "display_name": "Python 3 (ipykernel)",
   "language": "python",
   "name": "python3"
  },
  "language_info": {
   "codemirror_mode": {
    "name": "ipython",
    "version": 3
   },
   "file_extension": ".py",
   "mimetype": "text/x-python",
   "name": "python",
   "nbconvert_exporter": "python",
   "pygments_lexer": "ipython3",
   "version": "3.9.7"
  }
 },
 "nbformat": 4,
 "nbformat_minor": 5
}
