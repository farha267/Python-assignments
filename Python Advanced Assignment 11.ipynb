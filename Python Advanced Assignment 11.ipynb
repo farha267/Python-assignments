{
 "cells": [
  {
   "cell_type": "markdown",
   "id": "fb7ad5d2",
   "metadata": {},
   "source": [
    "# Python Advanced Assignment 11"
   ]
  },
  {
   "cell_type": "markdown",
   "id": "1af6471e",
   "metadata": {},
   "source": [
    "QUESTION 01"
   ]
  },
  {
   "cell_type": "markdown",
   "id": "a1401d8e",
   "metadata": {},
   "source": [
    "Metaclass is a class, whose instances are classes, when we create an object by calling the class, python creates a new class, by calling the meta class"
   ]
  },
  {
   "cell_type": "markdown",
   "id": "c0d3c40e",
   "metadata": {},
   "source": [
    "QUESTION 02"
   ]
  },
  {
   "cell_type": "markdown",
   "id": "2aa09377",
   "metadata": {},
   "source": [
    "We can use keyword metaclass in the defination of a class, or we can do by inheriting a class, that has already passed in this keyword"
   ]
  },
  {
   "cell_type": "markdown",
   "id": "ed6f0666",
   "metadata": {},
   "source": [
    "QUESTION 03"
   ]
  },
  {
   "cell_type": "markdown",
   "id": "3a09d325",
   "metadata": {},
   "source": [
    "Decorators are much more simplier when ever the desired effect can be achived with either a metaclass or a class, decorator"
   ]
  },
  {
   "cell_type": "markdown",
   "id": "72a0b1e5",
   "metadata": {},
   "source": [
    "QUESTION 04"
   ]
  },
  {
   "cell_type": "markdown",
   "id": "af8cf523",
   "metadata": {},
   "source": [
    "Decorators are much more simplier when ever the desired effect can be achived with either a metaclass or a class, decorator, anything can be done with a decorator of a class, and custom metaclass"
   ]
  },
  {
   "cell_type": "code",
   "execution_count": null,
   "id": "144dba89",
   "metadata": {},
   "outputs": [],
   "source": []
  }
 ],
 "metadata": {
  "kernelspec": {
   "display_name": "Python 3 (ipykernel)",
   "language": "python",
   "name": "python3"
  },
  "language_info": {
   "codemirror_mode": {
    "name": "ipython",
    "version": 3
   },
   "file_extension": ".py",
   "mimetype": "text/x-python",
   "name": "python",
   "nbconvert_exporter": "python",
   "pygments_lexer": "ipython3",
   "version": "3.9.7"
  }
 },
 "nbformat": 4,
 "nbformat_minor": 5
}
