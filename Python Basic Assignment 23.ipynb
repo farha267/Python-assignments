{
 "cells": [
  {
   "cell_type": "markdown",
   "id": "b5218e04",
   "metadata": {},
   "source": [
    "# Python Basic Assignment 23"
   ]
  },
  {
   "cell_type": "markdown",
   "id": "59db84f4",
   "metadata": {},
   "source": [
    "QUESTION 01"
   ]
  },
  {
   "cell_type": "code",
   "execution_count": 2,
   "id": "4f03f17f",
   "metadata": {},
   "outputs": [
    {
     "name": "stdout",
     "output_type": "stream",
     "text": [
      "1 2 8\n"
     ]
    }
   ],
   "source": [
    ">>> def func(a, b=6, c=8):\n",
    "    print(a, b, c)\n",
    ">>> func(1, 2)\n"
   ]
  },
  {
   "cell_type": "markdown",
   "id": "157211e0",
   "metadata": {},
   "source": [
    "Here func is created as function which prints a,,b,c in which a,b value is overwritten "
   ]
  },
  {
   "cell_type": "markdown",
   "id": "dd09399a",
   "metadata": {},
   "source": [
    "QUESTION 02"
   ]
  },
  {
   "cell_type": "code",
   "execution_count": 3,
   "id": "f3f9f5cc",
   "metadata": {},
   "outputs": [
    {
     "name": "stdout",
     "output_type": "stream",
     "text": [
      "1 2 3\n"
     ]
    }
   ],
   "source": [
    ">>> def func(a, b, c=5):\n",
    "    print(a, b, c)\n",
    ">>> func(1, c=3, b=2)\n"
   ]
  },
  {
   "cell_type": "markdown",
   "id": "877d3999",
   "metadata": {},
   "source": [
    "Here func is created as function which prints a,,b,c in which C,b value is overwritten \n"
   ]
  },
  {
   "cell_type": "markdown",
   "id": "af107bf4",
   "metadata": {},
   "source": [
    "QUESTION 03"
   ]
  },
  {
   "cell_type": "code",
   "execution_count": 4,
   "id": "131c9bf3",
   "metadata": {},
   "outputs": [
    {
     "name": "stdout",
     "output_type": "stream",
     "text": [
      "1 (2, 3)\n"
     ]
    }
   ],
   "source": [
    ">>> def func(a, *pargs):\n",
    "    print(a, pargs)\n",
    ">>> func(1, 2, 3)\n"
   ]
  },
  {
   "cell_type": "markdown",
   "id": "b85d25f7",
   "metadata": {},
   "source": [
    "here func is created as function where a in taken as 1 and other variable are taken as tuples, pargs is the single variable inputs"
   ]
  },
  {
   "cell_type": "markdown",
   "id": "8bcc9895",
   "metadata": {},
   "source": [
    "QUESTION 04"
   ]
  },
  {
   "cell_type": "code",
   "execution_count": 5,
   "id": "cf3b7509",
   "metadata": {},
   "outputs": [
    {
     "name": "stdout",
     "output_type": "stream",
     "text": [
      "1 {'c': 3, 'b': 2}\n"
     ]
    }
   ],
   "source": [
    ">>> def func(a, **kargs):\n",
    "    print(a, kargs)\n",
    ">>> func(a=1, c=3, b=2)\n"
   ]
  },
  {
   "cell_type": "markdown",
   "id": "d8da3f45",
   "metadata": {},
   "source": [
    "here func is created as function where a in taken as 1 and other variables are taken as key value pairs"
   ]
  },
  {
   "cell_type": "markdown",
   "id": "3308f32d",
   "metadata": {},
   "source": [
    "QUESTION 05"
   ]
  },
  {
   "cell_type": "code",
   "execution_count": 6,
   "id": "9fd956d5",
   "metadata": {},
   "outputs": [
    {
     "name": "stdout",
     "output_type": "stream",
     "text": [
      "1 5 6 5\n"
     ]
    }
   ],
   "source": [
    ">>> def func(a, b, c=8, d=5):\n",
    "    print(a, b, c, d)\n",
    ">>> func(1, *(5, 6))\n"
   ]
  },
  {
   "cell_type": "markdown",
   "id": "029eb555",
   "metadata": {},
   "source": [
    "Here func is created as function which prints a,,b,c in which C,b value is overwritten and taken as tuples"
   ]
  },
  {
   "cell_type": "markdown",
   "id": "fdfc73b4",
   "metadata": {},
   "source": [
    "QUESTION 06"
   ]
  },
  {
   "cell_type": "code",
   "execution_count": 7,
   "id": "3d8bcf88",
   "metadata": {},
   "outputs": [
    {
     "data": {
      "text/plain": [
       "(1, ['x'], {'a': 'y'})"
      ]
     },
     "execution_count": 7,
     "metadata": {},
     "output_type": "execute_result"
    }
   ],
   "source": [
    ">>> def func(a, b, c): a = 2; b[0] = 'x'; c['a'] = 'y'\n",
    ">>> l=1; m=[1]; n={'a':0}\n",
    ">>> func(l, m, n)\n",
    ">>> l, m, n\n"
   ]
  },
  {
   "cell_type": "code",
   "execution_count": null,
   "id": "d825c4ef",
   "metadata": {},
   "outputs": [],
   "source": []
  }
 ],
 "metadata": {
  "kernelspec": {
   "display_name": "Python 3 (ipykernel)",
   "language": "python",
   "name": "python3"
  },
  "language_info": {
   "codemirror_mode": {
    "name": "ipython",
    "version": 3
   },
   "file_extension": ".py",
   "mimetype": "text/x-python",
   "name": "python",
   "nbconvert_exporter": "python",
   "pygments_lexer": "ipython3",
   "version": "3.9.7"
  }
 },
 "nbformat": 4,
 "nbformat_minor": 5
}
