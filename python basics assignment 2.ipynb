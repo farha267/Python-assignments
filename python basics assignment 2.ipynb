{
 "cells": [
  {
   "cell_type": "markdown",
   "id": "9ee5aa27",
   "metadata": {},
   "source": [
    "ASSIGNMENT 2"
   ]
  },
  {
   "cell_type": "markdown",
   "id": "dd30f5e4",
   "metadata": {},
   "source": [
    "QUESTION 01"
   ]
  },
  {
   "cell_type": "markdown",
   "id": "a77ff0f6",
   "metadata": {},
   "source": [
    "Two values of boolean data type is True and False \n",
    "We write them using keywords as True or False"
   ]
  },
  {
   "cell_type": "markdown",
   "id": "c476310d",
   "metadata": {},
   "source": [
    "QUESTION 02"
   ]
  },
  {
   "cell_type": "markdown",
   "id": "543ad97c",
   "metadata": {},
   "source": [
    "Different types of boolean operators are and, or, not "
   ]
  },
  {
   "cell_type": "markdown",
   "id": "f6ec99e9",
   "metadata": {},
   "source": [
    "QUESTION 03"
   ]
  },
  {
   "cell_type": "markdown",
   "id": "fb9968de",
   "metadata": {},
   "source": [
    "and returns True if both the conditions are true orelse returns False\n",
    "or  returns True if one of the condition is true orelse returns False\n",
    "not returns true if any of the condition is true orelse returns False\n"
   ]
  },
  {
   "cell_type": "markdown",
   "id": "f43431b9",
   "metadata": {},
   "source": [
    "QUESTION 04"
   ]
  },
  {
   "cell_type": "markdown",
   "id": "32f0478b",
   "metadata": {},
   "source": [
    "(5>4) and 3==5 returns False\n",
    "not 5>4 returns True\n",
    "(5>4) or 3==5 returns True\n",
    "not ((5>4) or (3==5)) returns True\n",
    "(True and True) and (True==False) returns False\n",
    "(not False) or (not True) returns True"
   ]
  },
  {
   "cell_type": "markdown",
   "id": "85eea31e",
   "metadata": {},
   "source": [
    "QUESTION 05"
   ]
  },
  {
   "cell_type": "code",
   "execution_count": null,
   "id": "d1aa6383",
   "metadata": {},
   "outputs": [],
   "source": [
    "Comparison operators\n",
    ">\n",
    "<\n",
    ">=\n",
    "<=\n",
    "==\n",
    "!="
   ]
  },
  {
   "cell_type": "markdown",
   "id": "077f4964",
   "metadata": {},
   "source": [
    "QUESTION 06"
   ]
  },
  {
   "cell_type": "markdown",
   "id": "76afaaf9",
   "metadata": {},
   "source": [
    "equal to is used to assign a value to a variable (=)\n",
    "Assignment operator equal to is used to compare two values which are equal to each other.(==)"
   ]
  },
  {
   "cell_type": "markdown",
   "id": "037d401e",
   "metadata": {},
   "source": [
    "QUESTION 07"
   ]
  },
  {
   "cell_type": "markdown",
   "id": "db0a5d9f",
   "metadata": {},
   "source": [
    "Block one \n",
    "if spam == 10:\n",
    "    print('eggs')\n",
    "\n",
    "Block two\n",
    "if spam > 5 :\n",
    "    print('bacon')\n",
    "\n",
    "Block three\n",
    "else\n",
    "print('ham')\n",
    "print('spam')\n",
    "print('spam')\n"
   ]
  },
  {
   "cell_type": "markdown",
   "id": "ff47ed90",
   "metadata": {},
   "source": [
    "QUESTION 08"
   ]
  },
  {
   "cell_type": "code",
   "execution_count": 43,
   "id": "f8f50b7c",
   "metadata": {},
   "outputs": [
    {
     "name": "stdout",
     "output_type": "stream",
     "text": [
      "spam = 1\n",
      "hello\n",
      "greetings\n"
     ]
    }
   ],
   "source": [
    "spam = int(input('spam = '))\n",
    "if spam == 1:\n",
    "    print('hello')\n",
    "if spam == 2:\n",
    "    print('howdy')\n",
    "else:\n",
    "    print('greetings')"
   ]
  },
  {
   "cell_type": "markdown",
   "id": "57a24581",
   "metadata": {},
   "source": [
    "QUESTION 09"
   ]
  },
  {
   "cell_type": "markdown",
   "id": "5ef08581",
   "metadata": {},
   "source": [
    "If our program is stuck in infinite loop we should press ctrl+C"
   ]
  },
  {
   "cell_type": "markdown",
   "id": "cc94bc8c",
   "metadata": {},
   "source": [
    "QUESTION 10"
   ]
  },
  {
   "cell_type": "markdown",
   "id": "c321e8ef",
   "metadata": {},
   "source": [
    " * break key word is used to break the loop and skip to the other part of the code\n",
    "           * continue keyword is used to continue to execute the loop in the code."
   ]
  },
  {
   "cell_type": "markdown",
   "id": "9e2d7219",
   "metadata": {},
   "source": [
    "QUESTION 11"
   ]
  },
  {
   "cell_type": "code",
   "execution_count": 26,
   "id": "4685432c",
   "metadata": {},
   "outputs": [
    {
     "data": {
      "text/plain": [
       "range(0, 10)"
      ]
     },
     "execution_count": 26,
     "metadata": {},
     "output_type": "execute_result"
    }
   ],
   "source": [
    "range(10) \n",
    "# it takes values from 0 to 9 "
   ]
  },
  {
   "cell_type": "code",
   "execution_count": 27,
   "id": "409e976b",
   "metadata": {},
   "outputs": [
    {
     "data": {
      "text/plain": [
       "range(0, 10)"
      ]
     },
     "execution_count": 27,
     "metadata": {},
     "output_type": "execute_result"
    }
   ],
   "source": [
    "range(0,10)\n",
    "# it takes values from 0 to 9"
   ]
  },
  {
   "cell_type": "code",
   "execution_count": 28,
   "id": "3f563707",
   "metadata": {},
   "outputs": [
    {
     "data": {
      "text/plain": [
       "range(0, 10)"
      ]
     },
     "execution_count": 28,
     "metadata": {},
     "output_type": "execute_result"
    }
   ],
   "source": [
    "range(0,10,1)\n",
    "# it takses values from 0 to 9 with a jump of 1 "
   ]
  },
  {
   "cell_type": "markdown",
   "id": "029ea300",
   "metadata": {},
   "source": [
    "QUESTION 12"
   ]
  },
  {
   "cell_type": "code",
   "execution_count": 33,
   "id": "2b35c522",
   "metadata": {},
   "outputs": [
    {
     "name": "stdout",
     "output_type": "stream",
     "text": [
      "1\n",
      "2\n",
      "3\n",
      "4\n",
      "5\n",
      "6\n",
      "7\n",
      "8\n",
      "9\n",
      "10\n"
     ]
    }
   ],
   "source": [
    "for i in range(1,11):\n",
    "    print(i)"
   ]
  },
  {
   "cell_type": "code",
   "execution_count": 37,
   "id": "3f7ddd06",
   "metadata": {},
   "outputs": [
    {
     "name": "stdout",
     "output_type": "stream",
     "text": [
      "1\n",
      "2\n",
      "3\n",
      "4\n",
      "5\n",
      "6\n",
      "7\n",
      "8\n",
      "9\n",
      "10\n"
     ]
    }
   ],
   "source": [
    "l = 1\n",
    "while (l<=10):\n",
    "    print(l)\n",
    "    l=l+1"
   ]
  },
  {
   "cell_type": "markdown",
   "id": "d691b944",
   "metadata": {},
   "source": [
    "QUESTION 13"
   ]
  },
  {
   "cell_type": "markdown",
   "id": "25d79e1c",
   "metadata": {},
   "source": [
    "import spam\n",
    "bacon()\n",
    "#calling a bacon() function after importing spam\n"
   ]
  }
 ],
 "metadata": {
  "kernelspec": {
   "display_name": "Python 3 (ipykernel)",
   "language": "python",
   "name": "python3"
  },
  "language_info": {
   "codemirror_mode": {
    "name": "ipython",
    "version": 3
   },
   "file_extension": ".py",
   "mimetype": "text/x-python",
   "name": "python",
   "nbconvert_exporter": "python",
   "pygments_lexer": "ipython3",
   "version": "3.9.7"
  }
 },
 "nbformat": 4,
 "nbformat_minor": 5
}
