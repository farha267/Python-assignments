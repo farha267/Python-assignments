{
 "cells": [
  {
   "cell_type": "markdown",
   "id": "7e48d30e",
   "metadata": {},
   "source": [
    "# Programming Assignment 05"
   ]
  },
  {
   "cell_type": "markdown",
   "id": "0fcf4e12",
   "metadata": {},
   "source": [
    "QUESTION 01"
   ]
  },
  {
   "cell_type": "code",
   "execution_count": 2,
   "id": "22ce3732",
   "metadata": {},
   "outputs": [
    {
     "name": "stdout",
     "output_type": "stream",
     "text": [
      "enter the frst number 4\n",
      "enter the second number 3\n",
      "The lcm is   12\n"
     ]
    }
   ],
   "source": [
    "a = int(input('enter the frst number '))\n",
    "b = int(input('enter the second number '))\n",
    "lcm = a*b\n",
    "for i in range(1,lcm+1):\n",
    "    if (i%a==0 and i%b==0):\n",
    "        print('The lcm is  ', i)\n",
    "        break"
   ]
  },
  {
   "cell_type": "markdown",
   "id": "b0c6d500",
   "metadata": {},
   "source": [
    "QUESTION 02"
   ]
  },
  {
   "cell_type": "code",
   "execution_count": 5,
   "id": "2ecc48cb",
   "metadata": {},
   "outputs": [],
   "source": [
    "def hcf(x,y):\n",
    "    if y == 0:\n",
    "        return x\n",
    "    return hcf(y, x%y)"
   ]
  },
  {
   "cell_type": "code",
   "execution_count": 6,
   "id": "094536ad",
   "metadata": {},
   "outputs": [
    {
     "data": {
      "text/plain": [
       "15"
      ]
     },
     "execution_count": 6,
     "metadata": {},
     "output_type": "execute_result"
    }
   ],
   "source": [
    "hcf(45,30)"
   ]
  },
  {
   "cell_type": "markdown",
   "id": "f80ed38e",
   "metadata": {},
   "source": [
    "QUESTION 03"
   ]
  },
  {
   "cell_type": "code",
   "execution_count": 2,
   "id": "fb981d35",
   "metadata": {},
   "outputs": [
    {
     "name": "stdout",
     "output_type": "stream",
     "text": [
      "enter the decimal number: 45\n",
      "the given decimal number  45 in binary is  0b101101\n",
      "the given decimal number 45 into octal is  0o55\n",
      "the given decimal number 45 into hexadecimal is  0x2d\n"
     ]
    }
   ],
   "source": [
    "def decimal_into_binary(decimal_1):\n",
    "    decimal = int(decimal_1)\n",
    "    print('the given decimal number ',decimal, 'in binary is ',bin(decimal))\n",
    "    \n",
    "def decimal_into_octal(decimal_1):\n",
    "    decimal = int(decimal_1)\n",
    "    print('the given decimal number',decimal, 'into octal is ',oct(decimal))\n",
    "    \n",
    "def decimal_into_hexa(decimal_1):\n",
    "    decimal = int(decimal_1)\n",
    "    print('the given decimal number',decimal, 'into hexadecimal is ',hex(decimal))\n",
    "\n",
    "decimal_1 = int(input('enter the decimal number: '))\n",
    "decimal_into_binary(decimal_1)\n",
    "decimal_into_octal(decimal_1)\n",
    "decimal_into_hexa(decimal_1)\n"
   ]
  },
  {
   "cell_type": "markdown",
   "id": "d361e485",
   "metadata": {},
   "source": [
    "QUESTION 04"
   ]
  },
  {
   "cell_type": "code",
   "execution_count": 6,
   "id": "6f429e92",
   "metadata": {},
   "outputs": [
    {
     "name": "stdout",
     "output_type": "stream",
     "text": [
      "enter the text r\n",
      "The ASCII value of  a  is 114\n"
     ]
    }
   ],
   "source": [
    "a = input('enter the text ')\n",
    "print('The ASCII value of ', \"a \", 'is', ord(a))"
   ]
  },
  {
   "cell_type": "markdown",
   "id": "c474d7da",
   "metadata": {},
   "source": [
    "QUESTION 05"
   ]
  },
  {
   "cell_type": "code",
   "execution_count": null,
   "id": "e67dcf1d",
   "metadata": {},
   "outputs": [
    {
     "name": "stdout",
     "output_type": "stream",
     "text": [
      "select operation\n",
      "1.add\n",
      "2.subtract\n",
      "3.multiply\n",
      "4.divide\n",
      "enter choice: 1\n",
      "enter frst number 4\n",
      "enter second number 7\n",
      "4 + 7 = 11\n"
     ]
    }
   ],
   "source": [
    "def add(x,y):\n",
    "    return x + y\n",
    "def subtract(x,y):\n",
    "    return x - y\n",
    "def multiply(x,y):\n",
    "    return x * y\n",
    "def divide(x,y):\n",
    "    return x/y\n",
    "print('select operation')\n",
    "print('1.add')\n",
    "print('2.subtract')\n",
    "print('3.multiply')\n",
    "print('4.divide')\n",
    "\n",
    "while True:\n",
    "    choice = input('enter choice: ')\n",
    "    if choice in ('1', '2', '3', '4'):\n",
    "        num1 = int(input('enter frst number '))\n",
    "        num2 = int(input('enter second number '))\n",
    "\n",
    "    if choice == '1':\n",
    "        print(num1, '+', num2, '=', add(num1, num2))\n",
    "    elif choice == '2':\n",
    "        print(num1, '-', num2, '=', subtract(num1, num2))\n",
    "    elif choice == '3':\n",
    "        print(num1, '*', num2, '=', multiply(num1, num2))\n",
    "    elif choice == '4':\n",
    "        print(num1, '/', num2, '=', divide(num1, num2))\n",
    "        next_calculation = input('lets do next calculation? ')\n",
    "        break\n",
    "    else:\n",
    "        print('invalid input')\n",
    "    \n",
    "\n"
   ]
  },
  {
   "cell_type": "code",
   "execution_count": null,
   "id": "26001e32",
   "metadata": {},
   "outputs": [],
   "source": []
  }
 ],
 "metadata": {
  "kernelspec": {
   "display_name": "Python 3 (ipykernel)",
   "language": "python",
   "name": "python3"
  },
  "language_info": {
   "codemirror_mode": {
    "name": "ipython",
    "version": 3
   },
   "file_extension": ".py",
   "mimetype": "text/x-python",
   "name": "python",
   "nbconvert_exporter": "python",
   "pygments_lexer": "ipython3",
   "version": "3.9.7"
  }
 },
 "nbformat": 4,
 "nbformat_minor": 5
}
