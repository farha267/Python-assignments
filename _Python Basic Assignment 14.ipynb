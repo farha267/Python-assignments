{
 "cells": [
  {
   "cell_type": "markdown",
   "id": "ba2a2581",
   "metadata": {},
   "source": [
    "# Python Basic Assignment 14"
   ]
  },
  {
   "cell_type": "markdown",
   "id": "5ff2ab07",
   "metadata": {},
   "source": [
    "QUESTION 01"
   ]
  },
  {
   "cell_type": "markdown",
   "id": "3f3ecf15",
   "metadata": {},
   "source": [
    "RGBA red-green-blue-alpha"
   ]
  },
  {
   "cell_type": "markdown",
   "id": "e51bb4fe",
   "metadata": {},
   "source": [
    "QUESTION 03"
   ]
  },
  {
   "cell_type": "markdown",
   "id": "1556508c",
   "metadata": {},
   "source": [
    "This means pillow is expecting a tuple of four integer co ordinates that represent a rectangular region in an image"
   ]
  },
  {
   "cell_type": "markdown",
   "id": "61ab13d3",
   "metadata": {},
   "source": [
    "QUESTION 04"
   ]
  },
  {
   "cell_type": "markdown",
   "id": "eaa23f2d",
   "metadata": {},
   "source": [
    "open() is used to open the image and .width is used to find width and .hieght is used to fing hiegth of the image"
   ]
  },
  {
   "cell_type": "markdown",
   "id": "92fa19dd",
   "metadata": {},
   "source": [
    "QUESTION 06"
   ]
  },
  {
   "cell_type": "markdown",
   "id": "ab0d482e",
   "metadata": {},
   "source": [
    "image.save() method is used to save the image"
   ]
  },
  {
   "cell_type": "markdown",
   "id": "ca9af8b9",
   "metadata": {},
   "source": [
    "QUESTION 07"
   ]
  },
  {
   "cell_type": "markdown",
   "id": "b5faa4a3",
   "metadata": {},
   "source": [
    "Python pillow- imagedraw module is used"
   ]
  },
  {
   "cell_type": "code",
   "execution_count": null,
   "id": "a6e7f720",
   "metadata": {},
   "outputs": [],
   "source": []
  }
 ],
 "metadata": {
  "kernelspec": {
   "display_name": "Python 3 (ipykernel)",
   "language": "python",
   "name": "python3"
  },
  "language_info": {
   "codemirror_mode": {
    "name": "ipython",
    "version": 3
   },
   "file_extension": ".py",
   "mimetype": "text/x-python",
   "name": "python",
   "nbconvert_exporter": "python",
   "pygments_lexer": "ipython3",
   "version": "3.9.7"
  }
 },
 "nbformat": 4,
 "nbformat_minor": 5
}
