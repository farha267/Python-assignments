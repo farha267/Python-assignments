{
 "cells": [
  {
   "cell_type": "markdown",
   "id": "46210449",
   "metadata": {},
   "source": [
    "# Programming Assignment 09"
   ]
  },
  {
   "cell_type": "markdown",
   "id": "605ed73f",
   "metadata": {},
   "source": [
    "QUESTION 01"
   ]
  },
  {
   "cell_type": "code",
   "execution_count": 19,
   "id": "5b068a34",
   "metadata": {},
   "outputs": [
    {
     "ename": "SyntaxError",
     "evalue": "invalid syntax (Temp/ipykernel_22656/3632442272.py, line 8)",
     "output_type": "error",
     "traceback": [
      "\u001b[1;36m  File \u001b[1;32m\"C:\\Users\\farha\\AppData\\Local\\Temp/ipykernel_22656/3632442272.py\"\u001b[1;36m, line \u001b[1;32m8\u001b[0m\n\u001b[1;33m    rem = Sum = 0\u001b[0m\n\u001b[1;37m    ^\u001b[0m\n\u001b[1;31mSyntaxError\u001b[0m\u001b[1;31m:\u001b[0m invalid syntax\n"
     ]
    }
   ],
   "source": [
    "def calulatelenght(n):\n",
    "    lenght = 0\n",
    "    while(n!= 0):\n",
    "        lenght = lenght + 1\n",
    "        n = n//10\n",
    "        return lenght\n",
    "    num = int(input(\"enter the number \")\n",
    "    rem = Sum = 0\n",
    "    len = calulatelenght(num)\n",
    "    n = num\n",
    "while(num>0):\n",
    "          rem = num%10\n",
    "          Sum = Sum + int(rem**len):\n",
    "          num = num//10:\n",
    "          len = len - 1:\n",
    "              return rem\n",
    "if (Sum == n)\n",
    "    print(str(n)+ 'is a disarium number')\n",
    "else:\n",
    "    print(str(n)+ 'is a disarium not number')"
   ]
  },
  {
   "cell_type": "markdown",
   "id": "eb137b85",
   "metadata": {},
   "source": [
    "QUESTION 02"
   ]
  },
  {
   "cell_type": "code",
   "execution_count": 29,
   "id": "42900146",
   "metadata": {},
   "outputs": [
    {
     "ename": "SyntaxError",
     "evalue": "invalid syntax (Temp/ipykernel_22656/1673768491.py, line 8)",
     "output_type": "error",
     "traceback": [
      "\u001b[1;36m  File \u001b[1;32m\"C:\\Users\\farha\\AppData\\Local\\Temp/ipykernel_22656/1673768491.py\"\u001b[1;36m, line \u001b[1;32m8\u001b[0m\n\u001b[1;33m    rem = Sum = 0\u001b[0m\n\u001b[1;37m    ^\u001b[0m\n\u001b[1;31mSyntaxError\u001b[0m\u001b[1;31m:\u001b[0m invalid syntax\n"
     ]
    }
   ],
   "source": [
    "def calulatelenght(n):\n",
    "    lenght = 0\n",
    "    while(n!= 0):\n",
    "        lenght = lenght + 1\n",
    "        n = n//10\n",
    "        return lenght\n",
    "    num = int(input(\"enter the number \")\n",
    "    rem = Sum = 0\n",
    "    len = calulatelenght(num)\n",
    "    n = num\n",
    "while(num>0):\n",
    "              rem = num%10\n",
    "              Sum = Sum + int(rem**len):\n",
    "              num = num//10:\n",
    "              len = len - 1:\n",
    "              return rem\n",
    "result = 0\n",
    "              print('The disarium numbers between 1 to 100 are ',/n)\n",
    "for i in range(1, 101):\n",
    "              result = digit_sum(i)\n",
    "              if (result == i)\n",
    "              print(i)"
   ]
  },
  {
   "cell_type": "markdown",
   "id": "58cfc50c",
   "metadata": {},
   "source": [
    "QUESTION 03"
   ]
  },
  {
   "cell_type": "code",
   "execution_count": 3,
   "id": "44fb703c",
   "metadata": {},
   "outputs": [
    {
     "ename": "NameError",
     "evalue": "name 'num' is not defined",
     "output_type": "error",
     "traceback": [
      "\u001b[1;31m---------------------------------------------------------------------------\u001b[0m",
      "\u001b[1;31mNameError\u001b[0m                                 Traceback (most recent call last)",
      "\u001b[1;32m~\\AppData\\Local\\Temp/ipykernel_27992/1413594194.py\u001b[0m in \u001b[0;36m<module>\u001b[1;34m\u001b[0m\n\u001b[0;32m      1\u001b[0m \u001b[1;32mdef\u001b[0m \u001b[0mhappynumber\u001b[0m\u001b[1;33m(\u001b[0m\u001b[0mnum\u001b[0m\u001b[1;33m)\u001b[0m\u001b[1;33m:\u001b[0m\u001b[1;33m\u001b[0m\u001b[1;33m\u001b[0m\u001b[0m\n\u001b[0;32m      2\u001b[0m     \u001b[0mrem\u001b[0m \u001b[1;33m=\u001b[0m \u001b[0msum\u001b[0m \u001b[1;33m=\u001b[0m \u001b[1;36m0\u001b[0m\u001b[1;33m\u001b[0m\u001b[1;33m\u001b[0m\u001b[0m\n\u001b[1;32m----> 3\u001b[1;33m \u001b[1;32mwhile\u001b[0m\u001b[1;33m(\u001b[0m\u001b[0mnum\u001b[0m\u001b[1;33m>\u001b[0m\u001b[1;36m0\u001b[0m\u001b[1;33m)\u001b[0m\u001b[1;33m:\u001b[0m\u001b[1;33m\u001b[0m\u001b[1;33m\u001b[0m\u001b[0m\n\u001b[0m\u001b[0;32m      4\u001b[0m     \u001b[0mrem\u001b[0m \u001b[1;33m=\u001b[0m \u001b[0mnum\u001b[0m\u001b[1;33m%\u001b[0m\u001b[1;36m10\u001b[0m\u001b[1;33m\u001b[0m\u001b[1;33m\u001b[0m\u001b[0m\n\u001b[0;32m      5\u001b[0m     \u001b[0mSum\u001b[0m \u001b[1;33m=\u001b[0m \u001b[0mSum\u001b[0m \u001b[1;33m+\u001b[0m \u001b[1;33m(\u001b[0m\u001b[0mrem\u001b[0m\u001b[1;33m*\u001b[0m\u001b[0mrem\u001b[0m\u001b[1;33m)\u001b[0m\u001b[1;33m\u001b[0m\u001b[1;33m\u001b[0m\u001b[0m\n",
      "\u001b[1;31mNameError\u001b[0m: name 'num' is not defined"
     ]
    }
   ],
   "source": [
    "def happynumber(num):\n",
    "    rem = sum = 0\n",
    "while(num>0):\n",
    "    rem = num%10\n",
    "    Sum = Sum + (rem*rem)\n",
    "    num = num//10\n",
    "    print(Sum)\n",
    "    num = int(input(\"enter the number \"))\n",
    "    result = num\n",
    "while (result!= 1 and result != 4):\n",
    "    result = happynumber(result)\n",
    "    \n",
    "if (result == 1):\n",
    "    print(str(num)+ 'is a happy number')\n",
    "else:\n",
    "    print(str(num)+ 'is not a happy number')"
   ]
  },
  {
   "cell_type": "markdown",
   "id": "40873c68",
   "metadata": {},
   "source": [
    "QUESTION 04"
   ]
  },
  {
   "cell_type": "code",
   "execution_count": null,
   "id": "94d0f142",
   "metadata": {},
   "outputs": [
    {
     "name": "stdout",
     "output_type": "stream",
     "text": [
      "list of happy numbers between 1 to 100 are \n"
     ]
    }
   ],
   "source": [
    "def happynumber(num):\n",
    "    rem = sum = 0\n",
    "while(num>0):\n",
    "    rem = num%10\n",
    "    Sum = Sum + (rem*rem)\n",
    "    num = num//10\n",
    "    print(Sum)\n",
    "print(\"list of happy numbers between 1 to 100 are \")\n",
    "for i in range(1,101):\n",
    "    result = i\n",
    "while(result != 1 and result != 4):\n",
    "    result = happynumber(result)\n",
    "if result == 1:\n",
    "    print(i)"
   ]
  },
  {
   "cell_type": "markdown",
   "id": "9cac12b4",
   "metadata": {},
   "source": [
    "QUESTION 05"
   ]
  },
  {
   "cell_type": "code",
   "execution_count": 35,
   "id": "61862159",
   "metadata": {},
   "outputs": [
    {
     "name": "stdout",
     "output_type": "stream",
     "text": [
      "enter the number156\n",
      "156 is a harshad number\n"
     ]
    }
   ],
   "source": [
    "num = int(input('enter the number' ))\n",
    "rem = sum = 0\n",
    "n = num\n",
    "while num > 0:\n",
    "    rem = num%10\n",
    "    sum = sum + rem\n",
    "    num = num//10\n",
    "if n%sum == 0:\n",
    "    print(str(n) + \" is a harshad number\")\n",
    "else:\n",
    "    print(str(n) + \" is not a harshad number\")\n",
    "    "
   ]
  },
  {
   "cell_type": "markdown",
   "id": "6f952521",
   "metadata": {},
   "source": [
    "QUESTION 06"
   ]
  },
  {
   "cell_type": "code",
   "execution_count": 39,
   "id": "17337d1f",
   "metadata": {},
   "outputs": [
    {
     "name": "stdout",
     "output_type": "stream",
     "text": [
      "pronic number between 1 and 100 are \n"
     ]
    }
   ],
   "source": [
    "def pronicnumber(num):\n",
    "    flag = False\n",
    "for j in range (1, num + 1):\n",
    "    flag = True\n",
    "    break\n",
    "    print (flag)\n",
    "print(\"pronic number between 1 and 100 are \")\n",
    "for i in range(1,101):\n",
    "    if (pronicnumber(i)):\n",
    "        print(i)"
   ]
  },
  {
   "cell_type": "code",
   "execution_count": null,
   "id": "f6e9493c",
   "metadata": {},
   "outputs": [],
   "source": []
  }
 ],
 "metadata": {
  "kernelspec": {
   "display_name": "Python 3 (ipykernel)",
   "language": "python",
   "name": "python3"
  },
  "language_info": {
   "codemirror_mode": {
    "name": "ipython",
    "version": 3
   },
   "file_extension": ".py",
   "mimetype": "text/x-python",
   "name": "python",
   "nbconvert_exporter": "python",
   "pygments_lexer": "ipython3",
   "version": "3.9.7"
  }
 },
 "nbformat": 4,
 "nbformat_minor": 5
}
