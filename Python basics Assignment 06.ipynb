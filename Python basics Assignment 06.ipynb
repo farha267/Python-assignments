{
 "cells": [
  {
   "cell_type": "markdown",
   "id": "458103ad",
   "metadata": {},
   "source": [
    "# ASSIGNMENT 06"
   ]
  },
  {
   "cell_type": "markdown",
   "id": "72cd3113",
   "metadata": {},
   "source": [
    "QUESTION 01"
   ]
  },
  {
   "cell_type": "markdown",
   "id": "29e9f1e4",
   "metadata": {},
   "source": [
    "'\\'  backslash is a escape character in python \n",
    "Escape characters in python are \\t = horizontal tab, \\n = new line, \\r = carriage return,\\b = backspace, \\0 = null character, \\v = vertical tab"
   ]
  },
  {
   "cell_type": "markdown",
   "id": "bac4510c",
   "metadata": {},
   "source": [
    "QUESTION 02"
   ]
  },
  {
   "cell_type": "markdown",
   "id": "fa240c51",
   "metadata": {},
   "source": [
    "\\n stands for newline\n",
    "\\t stands for horizontal tab "
   ]
  },
  {
   "cell_type": "markdown",
   "id": "7fe84285",
   "metadata": {},
   "source": [
    "QUESTION 03"
   ]
  },
  {
   "cell_type": "markdown",
   "id": "5b38030a",
   "metadata": {},
   "source": [
    "The way to use backslash in a string is '\\\\' double backslash"
   ]
  },
  {
   "cell_type": "markdown",
   "id": "ee01b41b",
   "metadata": {},
   "source": [
    "QUESTION 04"
   ]
  },
  {
   "cell_type": "code",
   "execution_count": 1,
   "id": "771f13ef",
   "metadata": {},
   "outputs": [
    {
     "data": {
      "text/plain": [
       "\"Howl's Moving Castle\""
      ]
     },
     "execution_count": 1,
     "metadata": {},
     "output_type": "execute_result"
    }
   ],
   "source": [
    "\"Howl's Moving Castle\" "
   ]
  },
  {
   "cell_type": "markdown",
   "id": "357c9922",
   "metadata": {},
   "source": [
    "Because the string is enclosed with double quotes."
   ]
  },
  {
   "cell_type": "markdown",
   "id": "a549971f",
   "metadata": {},
   "source": [
    "QUESTION 05"
   ]
  },
  {
   "cell_type": "markdown",
   "id": "d9428902",
   "metadata": {},
   "source": [
    "We can use \\n to write a srting of newlines\n"
   ]
  },
  {
   "cell_type": "code",
   "execution_count": 10,
   "id": "b807c2ad",
   "metadata": {},
   "outputs": [
    {
     "name": "stdout",
     "output_type": "stream",
     "text": [
      "my name is farha\n",
      " im a data science intern at ineuron\n"
     ]
    }
   ],
   "source": [
    "f = 'my name is farha\\n im a data science intern at ineuron'\n",
    "print (f)"
   ]
  },
  {
   "cell_type": "markdown",
   "id": "d7681e8e",
   "metadata": {},
   "source": [
    "QUESTION 06"
   ]
  },
  {
   "cell_type": "code",
   "execution_count": 12,
   "id": "160e999c",
   "metadata": {},
   "outputs": [
    {
     "data": {
      "text/plain": [
       "'e'"
      ]
     },
     "execution_count": 12,
     "metadata": {},
     "output_type": "execute_result"
    }
   ],
   "source": [
    "'Hello,world!'[1]"
   ]
  },
  {
   "cell_type": "code",
   "execution_count": 13,
   "id": "729c4ed0",
   "metadata": {},
   "outputs": [
    {
     "data": {
      "text/plain": [
       "'Hello'"
      ]
     },
     "execution_count": 13,
     "metadata": {},
     "output_type": "execute_result"
    }
   ],
   "source": [
    "'Hello,world!'[0:5]"
   ]
  },
  {
   "cell_type": "code",
   "execution_count": 14,
   "id": "389dc806",
   "metadata": {},
   "outputs": [
    {
     "data": {
      "text/plain": [
       "'Hello'"
      ]
     },
     "execution_count": 14,
     "metadata": {},
     "output_type": "execute_result"
    }
   ],
   "source": [
    "'Hello,world!'[:5]"
   ]
  },
  {
   "cell_type": "code",
   "execution_count": 16,
   "id": "535b7858",
   "metadata": {},
   "outputs": [
    {
     "data": {
      "text/plain": [
       "'lo,world!'"
      ]
     },
     "execution_count": 16,
     "metadata": {},
     "output_type": "execute_result"
    }
   ],
   "source": [
    "'Hello,world!'[3:]"
   ]
  },
  {
   "cell_type": "markdown",
   "id": "cd83e2ca",
   "metadata": {},
   "source": [
    "QUESTION 07"
   ]
  },
  {
   "cell_type": "code",
   "execution_count": 17,
   "id": "f9334193",
   "metadata": {},
   "outputs": [
    {
     "data": {
      "text/plain": [
       "'HELLO'"
      ]
     },
     "execution_count": 17,
     "metadata": {},
     "output_type": "execute_result"
    }
   ],
   "source": [
    "'Hello'.upper()"
   ]
  },
  {
   "cell_type": "code",
   "execution_count": 18,
   "id": "3dad496d",
   "metadata": {},
   "outputs": [
    {
     "data": {
      "text/plain": [
       "True"
      ]
     },
     "execution_count": 18,
     "metadata": {},
     "output_type": "execute_result"
    }
   ],
   "source": [
    "'Hello'.upper().isupper()"
   ]
  },
  {
   "cell_type": "code",
   "execution_count": 19,
   "id": "99b911ca",
   "metadata": {},
   "outputs": [
    {
     "data": {
      "text/plain": [
       "False"
      ]
     },
     "execution_count": 19,
     "metadata": {},
     "output_type": "execute_result"
    }
   ],
   "source": [
    "'Hello'.upper().islower()"
   ]
  },
  {
   "cell_type": "markdown",
   "id": "a13ec5f7",
   "metadata": {},
   "source": [
    "QUESTION 08"
   ]
  },
  {
   "cell_type": "code",
   "execution_count": 20,
   "id": "ec63c573",
   "metadata": {},
   "outputs": [
    {
     "data": {
      "text/plain": [
       "['Remember,', 'remember,', 'the', 'fifth', 'of', 'july.']"
      ]
     },
     "execution_count": 20,
     "metadata": {},
     "output_type": "execute_result"
    }
   ],
   "source": [
    "'Remember, remember, the fifth of july.'.split()"
   ]
  },
  {
   "cell_type": "code",
   "execution_count": 22,
   "id": "c67690e0",
   "metadata": {},
   "outputs": [
    {
     "data": {
      "text/plain": [
       "'There-can-only-one.'"
      ]
     },
     "execution_count": 22,
     "metadata": {},
     "output_type": "execute_result"
    }
   ],
   "source": [
    "'-'.join('There can only one.'.split())"
   ]
  },
  {
   "cell_type": "markdown",
   "id": "a01b4c84",
   "metadata": {},
   "source": [
    "QUESTION 09"
   ]
  },
  {
   "cell_type": "markdown",
   "id": "1b2c0782",
   "metadata": {},
   "source": [
    "Right justifying is done using rjust()\n",
    "rjust(10, 'farha sultana')"
   ]
  },
  {
   "cell_type": "markdown",
   "id": "4008eb51",
   "metadata": {},
   "source": [
    "Left justifying is done using ljust()\n",
    "ljust(50,'djygjj')"
   ]
  },
  {
   "cell_type": "code",
   "execution_count": 26,
   "id": "66bff660",
   "metadata": {},
   "outputs": [
    {
     "data": {
      "text/plain": [
       "'############dkygbnbvcxduukj#############'"
      ]
     },
     "execution_count": 26,
     "metadata": {},
     "output_type": "execute_result"
    }
   ],
   "source": [
    "##Centering a string is used by using center keyword\n",
    "f = ('dkygbnbvcxduukj')\n",
    "f.center(40,'#')"
   ]
  },
  {
   "cell_type": "markdown",
   "id": "fea9e780",
   "metadata": {},
   "source": [
    "QUESTION 10"
   ]
  },
  {
   "cell_type": "markdown",
   "id": "15e23a0f",
   "metadata": {},
   "source": [
    "strip() is used to remove whitespace characters from a start or end\n",
    "lstrip() for starting and rstrip for ending"
   ]
  }
 ],
 "metadata": {
  "kernelspec": {
   "display_name": "Python 3 (ipykernel)",
   "language": "python",
   "name": "python3"
  },
  "language_info": {
   "codemirror_mode": {
    "name": "ipython",
    "version": 3
   },
   "file_extension": ".py",
   "mimetype": "text/x-python",
   "name": "python",
   "nbconvert_exporter": "python",
   "pygments_lexer": "ipython3",
   "version": "3.9.7"
  }
 },
 "nbformat": 4,
 "nbformat_minor": 5
}
