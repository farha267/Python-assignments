{
 "cells": [
  {
   "cell_type": "markdown",
   "id": "91b97443",
   "metadata": {},
   "source": [
    "# Python Advanced Assignmnent 06"
   ]
  },
  {
   "cell_type": "markdown",
   "id": "4bc064b0",
   "metadata": {},
   "source": [
    "QUESTION 01"
   ]
  },
  {
   "cell_type": "markdown",
   "id": "e0aa87e2",
   "metadata": {},
   "source": [
    "*Handle the errors \n",
    "*Does not stops execution of the program\n",
    "*Code can be preserved\n",
    "*Enables flow control"
   ]
  },
  {
   "cell_type": "markdown",
   "id": "e786ff76",
   "metadata": {},
   "source": [
    "QUESTION 02"
   ]
  },
  {
   "cell_type": "markdown",
   "id": "0d725ccd",
   "metadata": {},
   "source": [
    "The program terminates abruptly and the code past line that had error will not get executed."
   ]
  },
  {
   "cell_type": "markdown",
   "id": "e0a1af44",
   "metadata": {},
   "source": [
    "QUESTION 03"
   ]
  },
  {
   "cell_type": "markdown",
   "id": "99a09446",
   "metadata": {},
   "source": [
    "try and except statements are used in python"
   ]
  },
  {
   "cell_type": "markdown",
   "id": "85ac8a1a",
   "metadata": {},
   "source": [
    "QUESTION 04"
   ]
  },
  {
   "cell_type": "markdown",
   "id": "9a57e6bc",
   "metadata": {},
   "source": [
    "The try and raise methods are used in python"
   ]
  },
  {
   "cell_type": "markdown",
   "id": "5ddb7047",
   "metadata": {},
   "source": [
    "QUESTION 05"
   ]
  },
  {
   "cell_type": "markdown",
   "id": "455c6f6e",
   "metadata": {},
   "source": [
    "Raise and finally method are used at the time of termination of the code"
   ]
  },
  {
   "cell_type": "code",
   "execution_count": null,
   "id": "7f601a43",
   "metadata": {},
   "outputs": [],
   "source": []
  }
 ],
 "metadata": {
  "kernelspec": {
   "display_name": "Python 3 (ipykernel)",
   "language": "python",
   "name": "python3"
  },
  "language_info": {
   "codemirror_mode": {
    "name": "ipython",
    "version": 3
   },
   "file_extension": ".py",
   "mimetype": "text/x-python",
   "name": "python",
   "nbconvert_exporter": "python",
   "pygments_lexer": "ipython3",
   "version": "3.9.7"
  }
 },
 "nbformat": 4,
 "nbformat_minor": 5
}
