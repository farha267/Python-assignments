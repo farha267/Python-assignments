{
 "cells": [
  {
   "cell_type": "markdown",
   "id": "5807ca4b",
   "metadata": {},
   "source": [
    "# Python Basic Assignment 13"
   ]
  },
  {
   "cell_type": "markdown",
   "id": "bf22f212",
   "metadata": {},
   "source": [
    "QUESTION 01"
   ]
  },
  {
   "cell_type": "markdown",
   "id": "5a39e830",
   "metadata": {},
   "source": [
    "csv is less memory and excel is larger csv is fater than excel text editors cannot edit files saved in excel format"
   ]
  },
  {
   "cell_type": "markdown",
   "id": "a0483241",
   "metadata": {},
   "source": [
    "QUESTION 02"
   ]
  },
  {
   "cell_type": "markdown",
   "id": "84d346f7",
   "metadata": {},
   "source": [
    "'r' for read and 'w' for write is used"
   ]
  },
  {
   "cell_type": "markdown",
   "id": "f5444073",
   "metadata": {},
   "source": [
    "QUESTION 03"
   ]
  },
  {
   "cell_type": "markdown",
   "id": "6a86fa37",
   "metadata": {},
   "source": [
    "'r' to read object and'w' to write objects"
   ]
  },
  {
   "cell_type": "markdown",
   "id": "d03432ac",
   "metadata": {},
   "source": [
    "QUESTION 04"
   ]
  },
  {
   "cell_type": "markdown",
   "id": "b776f3fa",
   "metadata": {},
   "source": [
    "csv.write() is used"
   ]
  },
  {
   "cell_type": "markdown",
   "id": "34e3cd0e",
   "metadata": {},
   "source": [
    "QUESTION 05"
   ]
  },
  {
   "cell_type": "markdown",
   "id": "ce5a450e",
   "metadata": {},
   "source": [
    "delimeter is the character that appears between cells on a row, delimeter is basically a comma and line terminator appears at the end of the row by default line terminator is a newline"
   ]
  },
  {
   "cell_type": "markdown",
   "id": "1f8049a6",
   "metadata": {},
   "source": [
    "QUESTION 06"
   ]
  },
  {
   "cell_type": "markdown",
   "id": "d40996b2",
   "metadata": {},
   "source": [
    "loads() method is used as a string and return a python object"
   ]
  },
  {
   "cell_type": "markdown",
   "id": "7fa540a7",
   "metadata": {},
   "source": [
    "QUESTION 07"
   ]
  },
  {
   "cell_type": "markdown",
   "id": "d1387db6",
   "metadata": {},
   "source": [
    "using dumps() method is used to return a json data"
   ]
  },
  {
   "cell_type": "code",
   "execution_count": null,
   "id": "ce3f6022",
   "metadata": {},
   "outputs": [],
   "source": []
  }
 ],
 "metadata": {
  "kernelspec": {
   "display_name": "Python 3 (ipykernel)",
   "language": "python",
   "name": "python3"
  },
  "language_info": {
   "codemirror_mode": {
    "name": "ipython",
    "version": 3
   },
   "file_extension": ".py",
   "mimetype": "text/x-python",
   "name": "python",
   "nbconvert_exporter": "python",
   "pygments_lexer": "ipython3",
   "version": "3.9.7"
  }
 },
 "nbformat": 4,
 "nbformat_minor": 5
}
