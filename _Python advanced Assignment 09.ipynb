{
 "cells": [
  {
   "cell_type": "markdown",
   "id": "e121c827",
   "metadata": {},
   "source": [
    "# Python advanced Assignment 09"
   ]
  },
  {
   "cell_type": "markdown",
   "id": "2aeba75e",
   "metadata": {},
   "source": [
    "QUESTION 01"
   ]
  },
  {
   "cell_type": "markdown",
   "id": "94ee62ff",
   "metadata": {},
   "source": [
    "Its known as built in types"
   ]
  },
  {
   "cell_type": "markdown",
   "id": "a151ab13",
   "metadata": {},
   "source": [
    "Question 02"
   ]
  },
  {
   "cell_type": "markdown",
   "id": "786f0711",
   "metadata": {},
   "source": [
    "adding a U character prefix before the string literal"
   ]
  },
  {
   "cell_type": "markdown",
   "id": "b23149f6",
   "metadata": {},
   "source": [
    "QUESTION 03"
   ]
  },
  {
   "cell_type": "markdown",
   "id": "4be124db",
   "metadata": {},
   "source": [
    "text files are used to store more user friendly data,,, binary files are used to store more copactible data"
   ]
  },
  {
   "cell_type": "markdown",
   "id": "7b61e831",
   "metadata": {},
   "source": [
    "QUESTION 04"
   ]
  },
  {
   "cell_type": "markdown",
   "id": "aa80ec10",
   "metadata": {},
   "source": [
    "encode method is used we should either use normal open() and not encode the unicode ourself"
   ]
  },
  {
   "cell_type": "markdown",
   "id": "e7157345",
   "metadata": {},
   "source": [
    "QUESTION 05"
   ]
  },
  {
   "cell_type": "markdown",
   "id": "c8a9ebc1",
   "metadata": {},
   "source": [
    "ASCII is unicode but unicode is not ASCII\n",
    "unicode is a superset of ASCII"
   ]
  },
  {
   "cell_type": "markdown",
   "id": "703f8863",
   "metadata": {},
   "source": [
    "QUESTION 06"
   ]
  },
  {
   "cell_type": "markdown",
   "id": "536cf4c1",
   "metadata": {},
   "source": [
    "It will be about 30%"
   ]
  },
  {
   "cell_type": "code",
   "execution_count": null,
   "id": "16afaab2",
   "metadata": {},
   "outputs": [],
   "source": []
  }
 ],
 "metadata": {
  "kernelspec": {
   "display_name": "Python 3 (ipykernel)",
   "language": "python",
   "name": "python3"
  },
  "language_info": {
   "codemirror_mode": {
    "name": "ipython",
    "version": 3
   },
   "file_extension": ".py",
   "mimetype": "text/x-python",
   "name": "python",
   "nbconvert_exporter": "python",
   "pygments_lexer": "ipython3",
   "version": "3.9.7"
  }
 },
 "nbformat": 4,
 "nbformat_minor": 5
}
