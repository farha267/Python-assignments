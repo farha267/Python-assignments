{
 "cells": [
  {
   "cell_type": "markdown",
   "id": "7f8fe3bf",
   "metadata": {},
   "source": [
    "# Programming Assignment 04"
   ]
  },
  {
   "cell_type": "markdown",
   "id": "410aeb12",
   "metadata": {},
   "source": [
    "QUESTION 01"
   ]
  },
  {
   "cell_type": "code",
   "execution_count": 1,
   "id": "6b131f60",
   "metadata": {},
   "outputs": [
    {
     "name": "stdout",
     "output_type": "stream",
     "text": [
      "enter the number 5\n",
      "the favctorial of a number is 1\n",
      "the favctorial of a number is 2\n",
      "the favctorial of a number is 6\n",
      "the favctorial of a number is 24\n",
      "the favctorial of a number is 120\n"
     ]
    }
   ],
   "source": [
    "num = int(input('enter the number '))\n",
    "factorial = 1\n",
    "if num < 0 :\n",
    "    print('factorial does not exist for negative number')\n",
    "elif num == 0:\n",
    "    print('the factorial of zero is 1')\n",
    "else:\n",
    "    for i in range(1, num +1):\n",
    "        factorial = factorial *i\n",
    "        print('the factorial of a number is',factorial)\n"
   ]
  },
  {
   "cell_type": "markdown",
   "id": "7a6e71a1",
   "metadata": {},
   "source": [
    "QUESTION 02"
   ]
  },
  {
   "cell_type": "code",
   "execution_count": 9,
   "id": "7dfc859b",
   "metadata": {},
   "outputs": [
    {
     "name": "stdout",
     "output_type": "stream",
     "text": [
      "enter the number 6\n",
      "6 x 1 = 6\n",
      "6 x 2 = 12\n",
      "6 x 3 = 18\n",
      "6 x 4 = 24\n",
      "6 x 5 = 30\n",
      "6 x 6 = 36\n",
      "6 x 7 = 42\n",
      "6 x 8 = 48\n",
      "6 x 9 = 54\n",
      "6 x 10 = 60\n"
     ]
    }
   ],
   "source": [
    "num = int(input('enter the number '))\n",
    "for i in range(1,11):\n",
    "    print(num, 'x', i, '=', num*i)\n",
    "     "
   ]
  },
  {
   "cell_type": "markdown",
   "id": "74c3eae1",
   "metadata": {},
   "source": [
    "QUESTION 03"
   ]
  },
  {
   "cell_type": "code",
   "execution_count": 6,
   "id": "f16b5cda",
   "metadata": {},
   "outputs": [],
   "source": [
    "def fib(n):\n",
    "    a = 0\n",
    "    b = 1\n",
    "    if n == 1:\n",
    "        print(a)\n",
    "    else:\n",
    "        print(b)\n",
    "        for i in range(1,n):\n",
    "            c = a + b\n",
    "            a = b\n",
    "            b = c\n",
    "            print(c)"
   ]
  },
  {
   "cell_type": "code",
   "execution_count": 7,
   "id": "9a3768d0",
   "metadata": {},
   "outputs": [
    {
     "name": "stdout",
     "output_type": "stream",
     "text": [
      "1\n",
      "1\n",
      "2\n",
      "3\n",
      "5\n",
      "8\n",
      "13\n",
      "21\n",
      "34\n",
      "55\n"
     ]
    }
   ],
   "source": [
    "fib(10)"
   ]
  },
  {
   "cell_type": "markdown",
   "id": "5a873664",
   "metadata": {},
   "source": [
    "QUESTION 04"
   ]
  },
  {
   "cell_type": "code",
   "execution_count": 24,
   "id": "49d86874",
   "metadata": {},
   "outputs": [
    {
     "name": "stdout",
     "output_type": "stream",
     "text": [
      "enter the number 5\n",
      "5  is not a armstrong number\n"
     ]
    }
   ],
   "source": [
    "num = int(input('enter the number '))\n",
    "sum = 0\n",
    "temp = num\n",
    "while temp > 0:\n",
    "    digit = temp % 10\n",
    "    sum + digit** 3\n",
    "    temp //= 10\n",
    "    if num == sum :\n",
    "        print(num,' is a armstrong number')\n",
    "    else:\n",
    "        print(num,' is not a armstrong number')"
   ]
  },
  {
   "cell_type": "markdown",
   "id": "ec5d11ea",
   "metadata": {},
   "source": [
    "QUESTION 05"
   ]
  },
  {
   "cell_type": "code",
   "execution_count": 16,
   "id": "0cfaf4ab",
   "metadata": {},
   "outputs": [
    {
     "name": "stdout",
     "output_type": "stream",
     "text": [
      "enter the lower number 100\n",
      "enter the upper number 1000\n",
      "153\n",
      "370\n",
      "371\n",
      "407\n",
      "1634\n"
     ]
    }
   ],
   "source": [
    "lower = int(input('enter the lower number '))\n",
    "upper = int(input('enter the upper number '))\n",
    "\n",
    "lower = 100\n",
    "upper = 2000\n",
    "\n",
    "for num in range(lower, upper + 1):\n",
    "\n",
    "   # order of number\n",
    "   order = len(str(num))\n",
    "    \n",
    "   # initialize sum\n",
    "   sum = 0\n",
    "\n",
    "   temp = num\n",
    "   while temp > 0:\n",
    "       digit = temp % 10\n",
    "       sum += digit ** order\n",
    "       temp //= 10\n",
    "\n",
    "   if num == sum:\n",
    "       print(num)"
   ]
  },
  {
   "cell_type": "markdown",
   "id": "6703c388",
   "metadata": {},
   "source": [
    "QUESTION 06"
   ]
  },
  {
   "cell_type": "code",
   "execution_count": 10,
   "id": "0cf7178e",
   "metadata": {},
   "outputs": [
    {
     "name": "stdout",
     "output_type": "stream",
     "text": [
      "the sum is 20\n",
      "the sum is 39\n",
      "the sum is 57\n",
      "the sum is 74\n",
      "the sum is 90\n",
      "the sum is 105\n",
      "the sum is 119\n",
      "the sum is 132\n",
      "the sum is 144\n",
      "the sum is 155\n",
      "the sum is 165\n",
      "the sum is 174\n",
      "the sum is 182\n",
      "the sum is 189\n",
      "the sum is 195\n",
      "the sum is 200\n",
      "the sum is 204\n",
      "the sum is 207\n",
      "the sum is 209\n",
      "the sum is 210\n"
     ]
    }
   ],
   "source": [
    "n = 20\n",
    "if n < 0:\n",
    "    print('enter the positive number')\n",
    "else:\n",
    "    sum = 0\n",
    "    while (n > 0):\n",
    "        sum += n\n",
    "        n -= 1\n",
    "        print('the sum is', sum)       \n",
    "    "
   ]
  },
  {
   "cell_type": "code",
   "execution_count": null,
   "id": "67f96cce",
   "metadata": {},
   "outputs": [],
   "source": []
  }
 ],
 "metadata": {
  "kernelspec": {
   "display_name": "Python 3 (ipykernel)",
   "language": "python",
   "name": "python3"
  },
  "language_info": {
   "codemirror_mode": {
    "name": "ipython",
    "version": 3
   },
   "file_extension": ".py",
   "mimetype": "text/x-python",
   "name": "python",
   "nbconvert_exporter": "python",
   "pygments_lexer": "ipython3",
   "version": "3.9.7"
  }
 },
 "nbformat": 4,
 "nbformat_minor": 5
}
