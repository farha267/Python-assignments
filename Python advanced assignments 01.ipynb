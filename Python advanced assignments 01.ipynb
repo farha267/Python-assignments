{
 "cells": [
  {
   "cell_type": "markdown",
   "id": "2b81cfe1",
   "metadata": {},
   "source": [
    "# Python Advanced Assignment 01"
   ]
  },
  {
   "cell_type": "markdown",
   "id": "63739e3e",
   "metadata": {},
   "source": [
    "QUESTION 01"
   ]
  },
  {
   "cell_type": "markdown",
   "id": "83e17ff3",
   "metadata": {},
   "source": [
    "The purpose of python OOPS that uses objects and classes in programmes \n",
    "it aims to implement real world entities in programming"
   ]
  },
  {
   "cell_type": "markdown",
   "id": "399fa2ac",
   "metadata": {},
   "source": [
    "QUESTION 02"
   ]
  },
  {
   "cell_type": "markdown",
   "id": "e3102307",
   "metadata": {},
   "source": [
    "Inheritance happens when an object is qualified, and involves searching an atribute definition tree "
   ]
  },
  {
   "cell_type": "markdown",
   "id": "a89bba06",
   "metadata": {},
   "source": [
    "QUESTION 03"
   ]
  },
  {
   "cell_type": "markdown",
   "id": "5846f5b5",
   "metadata": {},
   "source": [
    "The basic concept of oops is this:\n",
    "    class>>object>>instance\n",
    "the object is an actual thing and intance is a virtual copy\n",
    "intance is a reference variable and object is a variable "
   ]
  },
  {
   "cell_type": "markdown",
   "id": "a7d4c966",
   "metadata": {},
   "source": [
    "QUESTION 04"
   ]
  },
  {
   "cell_type": "markdown",
   "id": "e940dbb0",
   "metadata": {},
   "source": [
    "The first argument of every class method, including init, is always a reference to the current instance of the class "
   ]
  },
  {
   "cell_type": "markdown",
   "id": "b34b925b",
   "metadata": {},
   "source": [
    "QUESTION 05"
   ]
  },
  {
   "cell_type": "markdown",
   "id": "50507d75",
   "metadata": {},
   "source": [
    "The purpose of __init__ to initialize the objects of the attributes and serves no other purpose"
   ]
  },
  {
   "cell_type": "markdown",
   "id": "8412556a",
   "metadata": {},
   "source": [
    "QUESTION 06"
   ]
  },
  {
   "cell_type": "markdown",
   "id": "3695fe53",
   "metadata": {},
   "source": [
    "To create instances of a class you call the class using class name and pass in watever arguments its __init__ method accepts."
   ]
  },
  {
   "cell_type": "markdown",
   "id": "5596cafa",
   "metadata": {},
   "source": [
    "QUESTION 07"
   ]
  },
  {
   "cell_type": "markdown",
   "id": "0c1c1357",
   "metadata": {},
   "source": [
    "Clsses provides bundle of data and functions together"
   ]
  },
  {
   "cell_type": "markdown",
   "id": "2db78341",
   "metadata": {},
   "source": [
    "QUESTION 08"
   ]
  },
  {
   "cell_type": "markdown",
   "id": "910494b5",
   "metadata": {},
   "source": [
    "Superclass is the class from which many subclasses are created. The subclasses are inherit the characteristics of a superclass. super class is a parent class and subclass is a child class"
   ]
  },
  {
   "cell_type": "code",
   "execution_count": null,
   "id": "cb815d80",
   "metadata": {},
   "outputs": [],
   "source": []
  }
 ],
 "metadata": {
  "kernelspec": {
   "display_name": "Python 3 (ipykernel)",
   "language": "python",
   "name": "python3"
  },
  "language_info": {
   "codemirror_mode": {
    "name": "ipython",
    "version": 3
   },
   "file_extension": ".py",
   "mimetype": "text/x-python",
   "name": "python",
   "nbconvert_exporter": "python",
   "pygments_lexer": "ipython3",
   "version": "3.9.7"
  }
 },
 "nbformat": 4,
 "nbformat_minor": 5
}
