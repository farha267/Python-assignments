{
 "cells": [
  {
   "cell_type": "markdown",
   "id": "78845558",
   "metadata": {},
   "source": [
    "# Python Advanced Assignment 13"
   ]
  },
  {
   "cell_type": "markdown",
   "id": "8a143eb1",
   "metadata": {},
   "source": [
    "QUESTION 01"
   ]
  },
  {
   "cell_type": "markdown",
   "id": "151428ea",
   "metadata": {},
   "source": [
    "This means you can use both positive and negative indexes "
   ]
  },
  {
   "cell_type": "markdown",
   "id": "2c6f74bc",
   "metadata": {},
   "source": [
    "QUESTION 02"
   ]
  },
  {
   "cell_type": "markdown",
   "id": "0a0cc86d",
   "metadata": {},
   "source": [
    "index() method is used"
   ]
  },
  {
   "cell_type": "markdown",
   "id": "da314784",
   "metadata": {},
   "source": [
    "QUESTION 03"
   ]
  },
  {
   "cell_type": "markdown",
   "id": "e7ccaca1",
   "metadata": {},
   "source": [
    "Indexing is reference of elements and slicing is usd to access the elements using index"
   ]
  },
  {
   "cell_type": "markdown",
   "id": "0f835db7",
   "metadata": {},
   "source": [
    "QUESTION 04"
   ]
  },
  {
   "cell_type": "markdown",
   "id": "8ae03781",
   "metadata": {},
   "source": [
    "list(a=[0:10:1])"
   ]
  },
  {
   "cell_type": "markdown",
   "id": "20c27088",
   "metadata": {},
   "source": [
    "QUESTION 05"
   ]
  },
  {
   "cell_type": "markdown",
   "id": "fc262c47",
   "metadata": {},
   "source": [
    "Error occurs if the slicing is out of range"
   ]
  },
  {
   "cell_type": "markdown",
   "id": "95d11be0",
   "metadata": {},
   "source": [
    "QUESTION 06"
   ]
  },
  {
   "cell_type": "markdown",
   "id": "451623e3",
   "metadata": {},
   "source": [
    "We shud avoid using slicing out of range"
   ]
  },
  {
   "cell_type": "markdown",
   "id": "eb88dd62",
   "metadata": {},
   "source": [
    "QUESTION 07"
   ]
  },
  {
   "cell_type": "markdown",
   "id": "7310ebee",
   "metadata": {},
   "source": [
    "Whenever the number of sources is not equal to the number of destinations"
   ]
  },
  {
   "cell_type": "code",
   "execution_count": null,
   "id": "696f3a86",
   "metadata": {},
   "outputs": [],
   "source": []
  }
 ],
 "metadata": {
  "kernelspec": {
   "display_name": "Python 3 (ipykernel)",
   "language": "python",
   "name": "python3"
  },
  "language_info": {
   "codemirror_mode": {
    "name": "ipython",
    "version": 3
   },
   "file_extension": ".py",
   "mimetype": "text/x-python",
   "name": "python",
   "nbconvert_exporter": "python",
   "pygments_lexer": "ipython3",
   "version": "3.9.7"
  }
 },
 "nbformat": 4,
 "nbformat_minor": 5
}
