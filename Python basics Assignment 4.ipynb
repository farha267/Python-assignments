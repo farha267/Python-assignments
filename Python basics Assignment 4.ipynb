{
 "cells": [
  {
   "cell_type": "markdown",
   "id": "a3f79146",
   "metadata": {},
   "source": [
    "ASSIGNMENT 4"
   ]
  },
  {
   "cell_type": "markdown",
   "id": "8611372c",
   "metadata": {},
   "source": [
    "QUESTION 01"
   ]
  },
  {
   "cell_type": "markdown",
   "id": "cdc64b99",
   "metadata": {},
   "source": [
    "[ ] in python is used to declare list and its contents, it is known as index brackets"
   ]
  },
  {
   "cell_type": "markdown",
   "id": "383fa041",
   "metadata": {},
   "source": [
    "QUESTION 02"
   ]
  },
  {
   "cell_type": "code",
   "execution_count": 1,
   "id": "fbbdf9e5",
   "metadata": {},
   "outputs": [],
   "source": [
    "spam = [2,4,6,8,10]"
   ]
  },
  {
   "cell_type": "code",
   "execution_count": 5,
   "id": "45e42725",
   "metadata": {},
   "outputs": [],
   "source": [
    "spam.insert(2,'hello')"
   ]
  },
  {
   "cell_type": "code",
   "execution_count": 6,
   "id": "c7547670",
   "metadata": {},
   "outputs": [
    {
     "data": {
      "text/plain": [
       "[2, 4, 'hello', 6, 8, 10]"
      ]
     },
     "execution_count": 6,
     "metadata": {},
     "output_type": "execute_result"
    }
   ],
   "source": [
    "spam"
   ]
  },
  {
   "cell_type": "markdown",
   "id": "2d7251a2",
   "metadata": {},
   "source": [
    "QUESTION 03"
   ]
  },
  {
   "cell_type": "code",
   "execution_count": 7,
   "id": "626ce75a",
   "metadata": {},
   "outputs": [
    {
     "data": {
      "text/plain": [
       "6"
      ]
     },
     "execution_count": 7,
     "metadata": {},
     "output_type": "execute_result"
    }
   ],
   "source": [
    "spam[int(int('3'*2)/11)]"
   ]
  },
  {
   "cell_type": "markdown",
   "id": "ee6e381a",
   "metadata": {},
   "source": [
    "QUESTION 04"
   ]
  },
  {
   "cell_type": "code",
   "execution_count": 8,
   "id": "cab2bc8b",
   "metadata": {},
   "outputs": [
    {
     "data": {
      "text/plain": [
       "10"
      ]
     },
     "execution_count": 8,
     "metadata": {},
     "output_type": "execute_result"
    }
   ],
   "source": [
    "spam[-1]"
   ]
  },
  {
   "cell_type": "markdown",
   "id": "8449ee1e",
   "metadata": {},
   "source": [
    "QUESTION 05"
   ]
  },
  {
   "cell_type": "code",
   "execution_count": 9,
   "id": "139621d0",
   "metadata": {},
   "outputs": [
    {
     "data": {
      "text/plain": [
       "[2, 4]"
      ]
     },
     "execution_count": 9,
     "metadata": {},
     "output_type": "execute_result"
    }
   ],
   "source": [
    "spam[:2]"
   ]
  },
  {
   "cell_type": "markdown",
   "id": "2b8b9460",
   "metadata": {},
   "source": [
    "QUESTION 06"
   ]
  },
  {
   "cell_type": "code",
   "execution_count": 11,
   "id": "675d854c",
   "metadata": {},
   "outputs": [
    {
     "data": {
      "text/plain": [
       "1"
      ]
     },
     "execution_count": 11,
     "metadata": {},
     "output_type": "execute_result"
    }
   ],
   "source": [
    "bacon = [3.14,'cat',11,'cat',True]\n",
    "bacon.index('cat')"
   ]
  },
  {
   "cell_type": "markdown",
   "id": "b4ed1c36",
   "metadata": {},
   "source": [
    "QUESTION 07"
   ]
  },
  {
   "cell_type": "code",
   "execution_count": 14,
   "id": "2e957115",
   "metadata": {},
   "outputs": [],
   "source": [
    "bacon.append(99)"
   ]
  },
  {
   "cell_type": "code",
   "execution_count": 15,
   "id": "7c168acf",
   "metadata": {},
   "outputs": [
    {
     "data": {
      "text/plain": [
       "[3.14, 'cat', 11, 'cat', True, 99, 99]"
      ]
     },
     "execution_count": 15,
     "metadata": {},
     "output_type": "execute_result"
    }
   ],
   "source": [
    "bacon"
   ]
  },
  {
   "cell_type": "markdown",
   "id": "ab8c72bd",
   "metadata": {},
   "source": [
    "QUESTION 08"
   ]
  },
  {
   "cell_type": "code",
   "execution_count": 16,
   "id": "fd6a9cad",
   "metadata": {},
   "outputs": [],
   "source": [
    "bacon.remove('cat')"
   ]
  },
  {
   "cell_type": "code",
   "execution_count": 17,
   "id": "7e93a744",
   "metadata": {},
   "outputs": [
    {
     "data": {
      "text/plain": [
       "[3.14, 11, 'cat', True, 99, 99]"
      ]
     },
     "execution_count": 17,
     "metadata": {},
     "output_type": "execute_result"
    }
   ],
   "source": [
    "bacon"
   ]
  },
  {
   "cell_type": "markdown",
   "id": "7c7d884e",
   "metadata": {},
   "source": [
    "QUESTION 09"
   ]
  },
  {
   "cell_type": "markdown",
   "id": "ffe8306c",
   "metadata": {},
   "source": [
    "The operator for list concatenation is + \n",
    "The operator for list replication is *"
   ]
  },
  {
   "cell_type": "markdown",
   "id": "69e1f152",
   "metadata": {},
   "source": [
    "QUESTION 10"
   ]
  },
  {
   "cell_type": "markdown",
   "id": "f8023dba",
   "metadata": {},
   "source": [
    "append() adds a value at the end of the list \n",
    "insert() adds a value based on the index given by the user"
   ]
  },
  {
   "cell_type": "markdown",
   "id": "73397e39",
   "metadata": {},
   "source": [
    "QUESTION 11"
   ]
  },
  {
   "cell_type": "markdown",
   "id": "aa7dbcb7",
   "metadata": {},
   "source": [
    "Two methods used for removing items from list are remove() and pop() functions"
   ]
  },
  {
   "cell_type": "markdown",
   "id": "05470822",
   "metadata": {},
   "source": [
    "QUESTION 12"
   ]
  },
  {
   "cell_type": "markdown",
   "id": "de681534",
   "metadata": {},
   "source": [
    "List values are mutable but, string values are immutable\n",
    "elements of lists can be different datatypes but, string only contains string datatype"
   ]
  },
  {
   "cell_type": "markdown",
   "id": "657866a3",
   "metadata": {},
   "source": [
    "QUESTION 13"
   ]
  },
  {
   "cell_type": "markdown",
   "id": "ffa0f7d4",
   "metadata": {},
   "source": [
    "Tuples are immutable and inclosed with () \n",
    "List is mutable and inclosed with []"
   ]
  },
  {
   "cell_type": "markdown",
   "id": "ebc82dd5",
   "metadata": {},
   "source": [
    "QUESTION 14"
   ]
  },
  {
   "cell_type": "markdown",
   "id": "05cb9732",
   "metadata": {},
   "source": [
    "t = (42)"
   ]
  },
  {
   "cell_type": "markdown",
   "id": "94f900ee",
   "metadata": {},
   "source": [
    "QUESTION 15"
   ]
  },
  {
   "cell_type": "code",
   "execution_count": 19,
   "id": "a1654213",
   "metadata": {},
   "outputs": [],
   "source": [
    "l = [2,3,4,5]"
   ]
  },
  {
   "cell_type": "code",
   "execution_count": 20,
   "id": "311741cc",
   "metadata": {},
   "outputs": [
    {
     "data": {
      "text/plain": [
       "(2, 3, 4, 5)"
      ]
     },
     "execution_count": 20,
     "metadata": {},
     "output_type": "execute_result"
    }
   ],
   "source": [
    "tuple(l)"
   ]
  },
  {
   "cell_type": "code",
   "execution_count": 23,
   "id": "8e7bc9a0",
   "metadata": {},
   "outputs": [],
   "source": [
    "t = (5,6,8,9)"
   ]
  },
  {
   "cell_type": "code",
   "execution_count": 24,
   "id": "36122334",
   "metadata": {},
   "outputs": [
    {
     "data": {
      "text/plain": [
       "list[5, 6, 8, 9]"
      ]
     },
     "execution_count": 24,
     "metadata": {},
     "output_type": "execute_result"
    }
   ],
   "source": [
    "list[t]"
   ]
  },
  {
   "cell_type": "markdown",
   "id": "ff3cdc65",
   "metadata": {},
   "source": [
    "QUESTION 16"
   ]
  },
  {
   "cell_type": "markdown",
   "id": "a460c556",
   "metadata": {},
   "source": [
    "They contain references to list values"
   ]
  },
  {
   "cell_type": "markdown",
   "id": "52aba708",
   "metadata": {},
   "source": [
    "QUESTION 17"
   ]
  },
  {
   "cell_type": "markdown",
   "id": "1239b325",
   "metadata": {},
   "source": [
    "copy.copy() create reference to original copy\n",
    "copy.deepcopy() creates new object and does real copying of original object to new one "
   ]
  }
 ],
 "metadata": {
  "kernelspec": {
   "display_name": "Python 3 (ipykernel)",
   "language": "python",
   "name": "python3"
  },
  "language_info": {
   "codemirror_mode": {
    "name": "ipython",
    "version": 3
   },
   "file_extension": ".py",
   "mimetype": "text/x-python",
   "name": "python",
   "nbconvert_exporter": "python",
   "pygments_lexer": "ipython3",
   "version": "3.9.7"
  }
 },
 "nbformat": 4,
 "nbformat_minor": 5
}
