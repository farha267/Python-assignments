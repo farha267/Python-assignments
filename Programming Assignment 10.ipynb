{
 "cells": [
  {
   "cell_type": "markdown",
   "id": "6f5caca5",
   "metadata": {},
   "source": [
    "# Programming Assignment 10"
   ]
  },
  {
   "cell_type": "markdown",
   "id": "4eef0635",
   "metadata": {},
   "source": [
    "QUESTION 01"
   ]
  },
  {
   "cell_type": "code",
   "execution_count": 3,
   "id": "1be56711",
   "metadata": {},
   "outputs": [
    {
     "name": "stdout",
     "output_type": "stream",
     "text": [
      "sum of all the elements in the list are  10\n",
      "sum of all the elements in the list are  52\n",
      "sum of all the elements in the list are  65\n",
      "sum of all the elements in the list are  140\n"
     ]
    }
   ],
   "source": [
    "total = 0\n",
    "lists = [10,42,13,75]\n",
    "for i in range(0,len(lists)):\n",
    "    total = total + lists[i]\n",
    "    print(\"sum of all the elements in the list are \", total)"
   ]
  },
  {
   "cell_type": "markdown",
   "id": "616e07d3",
   "metadata": {},
   "source": [
    "QUESTION 02"
   ]
  },
  {
   "cell_type": "code",
   "execution_count": 5,
   "id": "8e9ac023",
   "metadata": {},
   "outputs": [
    {
     "name": "stdout",
     "output_type": "stream",
     "text": [
      "product of all the elements in the list are  10\n",
      "product of all the elements in the list are  420\n",
      "product of all the elements in the list are  5460\n",
      "product of all the elements in the list are  409500\n"
     ]
    }
   ],
   "source": [
    "multiply = 1\n",
    "lists = [10,42,13,75]\n",
    "for i in range(0,len(lists)):\n",
    "    multiply = multiply *  lists[i]\n",
    "    print(\"product of all the elements in the list are \",multiply)"
   ]
  },
  {
   "cell_type": "markdown",
   "id": "4a6cc510",
   "metadata": {},
   "source": [
    "QUESTION 03"
   ]
  },
  {
   "cell_type": "code",
   "execution_count": 16,
   "id": "50d8cf7b",
   "metadata": {},
   "outputs": [
    {
     "name": "stdout",
     "output_type": "stream",
     "text": [
      "2\n"
     ]
    }
   ],
   "source": [
    "lst = [30,25,36,2,82]\n",
    "print(min(lst, key = lambda value: int(value)))"
   ]
  },
  {
   "cell_type": "markdown",
   "id": "7caed298",
   "metadata": {},
   "source": [
    "QUESTION 04"
   ]
  },
  {
   "cell_type": "code",
   "execution_count": 17,
   "id": "c90b04c8",
   "metadata": {},
   "outputs": [
    {
     "name": "stdout",
     "output_type": "stream",
     "text": [
      "82\n"
     ]
    }
   ],
   "source": [
    "lst = [30,25,36,2,82]\n",
    "print(max(lst, key = lambda value: int(value)))"
   ]
  },
  {
   "cell_type": "markdown",
   "id": "2f7bc396",
   "metadata": {},
   "source": [
    "QUESTION 05"
   ]
  },
  {
   "cell_type": "code",
   "execution_count": null,
   "id": "cdbaeb48",
   "metadata": {},
   "outputs": [],
   "source": [
    "a = []\n",
    "n = int(input(\"enter the number of elements \"))\n",
    "for i in range(1,n+1):\n",
    "    b = int(input(\"enter the element \"))\n",
    "    a.append(b)\n",
    "    a.sort()\n",
    "    print(\"second largest element in the list is \",a[n-2])"
   ]
  },
  {
   "cell_type": "markdown",
   "id": "15f39ca4",
   "metadata": {},
   "source": [
    "QUESTION 06"
   ]
  },
  {
   "cell_type": "code",
   "execution_count": 9,
   "id": "541e24af",
   "metadata": {},
   "outputs": [
    {
     "name": "stdout",
     "output_type": "stream",
     "text": [
      "26 96 12 "
     ]
    }
   ],
   "source": [
    "lst = [26,55,47,96,12,39]\n",
    "for num in lst:\n",
    "    if num % 2 == 0:\n",
    "        print(num, end = ' ')"
   ]
  },
  {
   "cell_type": "markdown",
   "id": "9d036463",
   "metadata": {},
   "source": [
    "QUESTION 07"
   ]
  },
  {
   "cell_type": "code",
   "execution_count": 2,
   "id": "16b00629",
   "metadata": {},
   "outputs": [
    {
     "name": "stdout",
     "output_type": "stream",
     "text": [
      "55 47 39 "
     ]
    }
   ],
   "source": [
    "lst = [26,55,47,96,12,39]\n",
    "for num in lst:\n",
    "    if num % 2 != 0:\n",
    "        print(num, end = ' ')"
   ]
  },
  {
   "cell_type": "markdown",
   "id": "10044c8b",
   "metadata": {},
   "source": [
    "QUESTION 08"
   ]
  },
  {
   "cell_type": "code",
   "execution_count": 15,
   "id": "a307aa3e",
   "metadata": {
    "scrolled": true
   },
   "outputs": [
    {
     "ename": "SyntaxError",
     "evalue": "invalid syntax (Temp/ipykernel_556/3301887029.py, line 4)",
     "output_type": "error",
     "traceback": [
      "\u001b[1;36m  File \u001b[1;32m\"C:\\Users\\farha\\AppData\\Local\\Temp/ipykernel_556/3301887029.py\"\u001b[1;36m, line \u001b[1;32m4\u001b[0m\n\u001b[1;33m    print(\"final lst is: \", str(result))\u001b[0m\n\u001b[1;37m    ^\u001b[0m\n\u001b[1;31mSyntaxError\u001b[0m\u001b[1;31m:\u001b[0m invalid syntax\n"
     ]
    }
   ],
   "source": [
    "mylst = [1,2,[],3,4,[],8,9,[],44,67,[]]\n",
    "print(\"the original list is: \",str(mylst))\n",
    "result = list(filter(None, mylst)\n",
    "print(\"final lst is: \", str(result))"
   ]
  },
  {
   "cell_type": "markdown",
   "id": "8fa4504e",
   "metadata": {},
   "source": [
    "QUESTION 09"
   ]
  },
  {
   "cell_type": "code",
   "execution_count": 10,
   "id": "8bbf1eff",
   "metadata": {},
   "outputs": [],
   "source": [
    "import copy"
   ]
  },
  {
   "cell_type": "code",
   "execution_count": 11,
   "id": "24ac9f7d",
   "metadata": {},
   "outputs": [
    {
     "name": "stdout",
     "output_type": "stream",
     "text": [
      "[1, 2, 3, 4, 5]\n"
     ]
    }
   ],
   "source": [
    "lst = [1,2,3,4,5]\n",
    "lst2 = copy.copy(lst)\n",
    "print(lst2)"
   ]
  },
  {
   "cell_type": "markdown",
   "id": "fa9979a0",
   "metadata": {},
   "source": [
    "QUESTION 10"
   ]
  },
  {
   "cell_type": "code",
   "execution_count": 13,
   "id": "b45fd057",
   "metadata": {},
   "outputs": [
    {
     "name": "stdout",
     "output_type": "stream",
     "text": [
      "enter the number to check occurence 2\n",
      "2 has occured 4 times \n"
     ]
    }
   ],
   "source": [
    "def count(lst, x):\n",
    "    return lst.count(x)\n",
    "lst = [1,2,5,2,8,3,2,9,2,9,5,7,4,14,63]\n",
    "x = int(input(\"enter the number to check occurence \"))\n",
    "print(\"{} has occured {} times \".format(x,count(lst,x)))\n"
   ]
  },
  {
   "cell_type": "code",
   "execution_count": null,
   "id": "3e34d52a",
   "metadata": {},
   "outputs": [],
   "source": []
  }
 ],
 "metadata": {
  "kernelspec": {
   "display_name": "Python 3 (ipykernel)",
   "language": "python",
   "name": "python3"
  },
  "language_info": {
   "codemirror_mode": {
    "name": "ipython",
    "version": 3
   },
   "file_extension": ".py",
   "mimetype": "text/x-python",
   "name": "python",
   "nbconvert_exporter": "python",
   "pygments_lexer": "ipython3",
   "version": "3.9.7"
  }
 },
 "nbformat": 4,
 "nbformat_minor": 5
}
