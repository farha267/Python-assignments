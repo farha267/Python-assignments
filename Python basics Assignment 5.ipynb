{
 "cells": [
  {
   "cell_type": "markdown",
   "id": "2fbff908",
   "metadata": {},
   "source": [
    "# ASSIGNMENT 05"
   ]
  },
  {
   "cell_type": "markdown",
   "id": "abb5468d",
   "metadata": {},
   "source": [
    "QUESTION 01"
   ]
  },
  {
   "cell_type": "markdown",
   "id": "0325ee31",
   "metadata": {},
   "source": [
    "dict{}\n",
    "Empty dictionary is enclosed with curly braces"
   ]
  },
  {
   "cell_type": "markdown",
   "id": "5f41e33b",
   "metadata": {},
   "source": [
    "QUESTION 02"
   ]
  },
  {
   "cell_type": "code",
   "execution_count": 1,
   "id": "5696abe5",
   "metadata": {},
   "outputs": [],
   "source": [
    "dict = {'foo':'42'}"
   ]
  },
  {
   "cell_type": "code",
   "execution_count": 2,
   "id": "6402ec7d",
   "metadata": {},
   "outputs": [
    {
     "data": {
      "text/plain": [
       "dict_values(['42'])"
      ]
     },
     "execution_count": 2,
     "metadata": {},
     "output_type": "execute_result"
    }
   ],
   "source": [
    "dict.values()"
   ]
  },
  {
   "cell_type": "markdown",
   "id": "886fd433",
   "metadata": {},
   "source": [
    "QUESTION 03"
   ]
  },
  {
   "cell_type": "markdown",
   "id": "24d10985",
   "metadata": {},
   "source": [
    "Dictionary is a combination of key and value pairs and enclosed with curly braces, items stored in dict are unordered\n",
    "List is a sequence of data enclosed with square braces, items stored in lists are ordered"
   ]
  },
  {
   "cell_type": "markdown",
   "id": "789e978c",
   "metadata": {},
   "source": [
    "QUESTION 04"
   ]
  },
  {
   "cell_type": "code",
   "execution_count": 3,
   "id": "08d4c40e",
   "metadata": {},
   "outputs": [],
   "source": [
    "spam = {'bar': '100'}"
   ]
  },
  {
   "cell_type": "code",
   "execution_count": 9,
   "id": "50411046",
   "metadata": {},
   "outputs": [
    {
     "ename": "TypeError",
     "evalue": "'set' object is not subscriptable",
     "output_type": "error",
     "traceback": [
      "\u001b[1;31m---------------------------------------------------------------------------\u001b[0m",
      "\u001b[1;31mTypeError\u001b[0m                                 Traceback (most recent call last)",
      "\u001b[1;32m~\\AppData\\Local\\Temp/ipykernel_1704/3999281786.py\u001b[0m in \u001b[0;36m<module>\u001b[1;34m\u001b[0m\n\u001b[1;32m----> 1\u001b[1;33m \u001b[0mspam\u001b[0m\u001b[1;33m[\u001b[0m\u001b[1;34m'foo'\u001b[0m\u001b[1;33m]\u001b[0m\u001b[1;33m\u001b[0m\u001b[1;33m\u001b[0m\u001b[0m\n\u001b[0m",
      "\u001b[1;31mTypeError\u001b[0m: 'set' object is not subscriptable"
     ]
    }
   ],
   "source": [
    "spam['foo']"
   ]
  },
  {
   "cell_type": "markdown",
   "id": "bf7e60c7",
   "metadata": {},
   "source": [
    "'foo' object does not contain in dictionary spam and its also enclosed with [] so we will get an error message in this case if we access spam['foo']"
   ]
  },
  {
   "cell_type": "markdown",
   "id": "a2df4d96",
   "metadata": {},
   "source": [
    "QUESTION 05"
   ]
  },
  {
   "cell_type": "code",
   "execution_count": 11,
   "id": "01d79ef0",
   "metadata": {},
   "outputs": [],
   "source": [
    "spam = {'cat': '50'}"
   ]
  },
  {
   "cell_type": "code",
   "execution_count": 13,
   "id": "d291a5e0",
   "metadata": {},
   "outputs": [
    {
     "data": {
      "text/plain": [
       "True"
      ]
     },
     "execution_count": 13,
     "metadata": {},
     "output_type": "execute_result"
    }
   ],
   "source": [
    "'cat' in spam"
   ]
  },
  {
   "cell_type": "code",
   "execution_count": 14,
   "id": "5dad590b",
   "metadata": {},
   "outputs": [
    {
     "data": {
      "text/plain": [
       "dict_keys(['cat'])"
      ]
     },
     "execution_count": 14,
     "metadata": {},
     "output_type": "execute_result"
    }
   ],
   "source": [
    "spam.keys()"
   ]
  },
  {
   "cell_type": "markdown",
   "id": "572831fc",
   "metadata": {},
   "source": [
    "Here 'cat' in spam returns bool value True if 'cat' is present in spam if its not present it returns False\n",
    "spam.keys() returns all the keys from dict spam."
   ]
  },
  {
   "cell_type": "markdown",
   "id": "a146a8ae",
   "metadata": {},
   "source": [
    "QUESTION 06"
   ]
  },
  {
   "cell_type": "code",
   "execution_count": 15,
   "id": "e4561ab7",
   "metadata": {},
   "outputs": [
    {
     "data": {
      "text/plain": [
       "True"
      ]
     },
     "execution_count": 15,
     "metadata": {},
     "output_type": "execute_result"
    }
   ],
   "source": [
    "'cat' in spam"
   ]
  },
  {
   "cell_type": "code",
   "execution_count": 16,
   "id": "8347162c",
   "metadata": {},
   "outputs": [
    {
     "data": {
      "text/plain": [
       "dict_values(['50'])"
      ]
     },
     "execution_count": 16,
     "metadata": {},
     "output_type": "execute_result"
    }
   ],
   "source": [
    "spam.values()"
   ]
  },
  {
   "cell_type": "markdown",
   "id": "c2244c7c",
   "metadata": {},
   "source": [
    "Here 'cat' in spam returns bool value True if 'cat' is present in spam if its not present it returns False spam.values() returns all the values from dict spam."
   ]
  },
  {
   "cell_type": "markdown",
   "id": "8dd5820f",
   "metadata": {},
   "source": [
    "QUESTION 07"
   ]
  },
  {
   "cell_type": "code",
   "execution_count": 17,
   "id": "b393b26c",
   "metadata": {},
   "outputs": [],
   "source": [
    "spam['color'] = 'black'"
   ]
  },
  {
   "cell_type": "code",
   "execution_count": 20,
   "id": "8a5e0d37",
   "metadata": {},
   "outputs": [
    {
     "data": {
      "text/plain": [
       "'black'"
      ]
     },
     "execution_count": 20,
     "metadata": {},
     "output_type": "execute_result"
    }
   ],
   "source": [
    "spam.setdefault('color','black')"
   ]
  },
  {
   "cell_type": "markdown",
   "id": "335f539c",
   "metadata": {},
   "source": [
    "This is the short cut key for 'color' not in spam"
   ]
  },
  {
   "cell_type": "markdown",
   "id": "9b7b96e6",
   "metadata": {},
   "source": [
    "QUESTION 08"
   ]
  },
  {
   "cell_type": "markdown",
   "id": "2cfb6170",
   "metadata": {},
   "source": [
    "pprint() is used to 'pretty print' dict values"
   ]
  },
  {
   "cell_type": "code",
   "execution_count": null,
   "id": "eb6b8e7d",
   "metadata": {},
   "outputs": [],
   "source": []
  }
 ],
 "metadata": {
  "kernelspec": {
   "display_name": "Python 3 (ipykernel)",
   "language": "python",
   "name": "python3"
  },
  "language_info": {
   "codemirror_mode": {
    "name": "ipython",
    "version": 3
   },
   "file_extension": ".py",
   "mimetype": "text/x-python",
   "name": "python",
   "nbconvert_exporter": "python",
   "pygments_lexer": "ipython3",
   "version": "3.9.7"
  }
 },
 "nbformat": 4,
 "nbformat_minor": 5
}
