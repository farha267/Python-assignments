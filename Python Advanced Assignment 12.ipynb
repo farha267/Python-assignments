{
 "cells": [
  {
   "cell_type": "markdown",
   "id": "c89b8470",
   "metadata": {},
   "source": [
    "# Python Advanced Assignment 12"
   ]
  },
  {
   "cell_type": "markdown",
   "id": "2a0d6fde",
   "metadata": {},
   "source": [
    "QUESTION 01"
   ]
  },
  {
   "cell_type": "markdown",
   "id": "535cbfbc",
   "metadata": {},
   "source": [
    "A string is immutable, we cannot over write the values of a string. we can assign the variable again its not modifying the string, its creating a new string object"
   ]
  },
  {
   "cell_type": "markdown",
   "id": "fa4aa68d",
   "metadata": {},
   "source": [
    "QUESTION 02"
   ]
  },
  {
   "cell_type": "markdown",
   "id": "e2ea7ff9",
   "metadata": {},
   "source": [
    "It violates the rules of a id values "
   ]
  },
  {
   "cell_type": "markdown",
   "id": "57d4b6e1",
   "metadata": {},
   "source": [
    "QUESTION 03"
   ]
  },
  {
   "cell_type": "markdown",
   "id": "a99419e3",
   "metadata": {},
   "source": [
    "There are two ways in indexing a character in python"
   ]
  },
  {
   "cell_type": "markdown",
   "id": "210adc88",
   "metadata": {},
   "source": [
    "QUESTION 04"
   ]
  },
  {
   "cell_type": "markdown",
   "id": "a064d27d",
   "metadata": {},
   "source": [
    "Indexing means referring to an element of an iterable by its position.   slicing means getting a subset of elements from an iterable based on thier indeces"
   ]
  },
  {
   "cell_type": "markdown",
   "id": "ee81089a",
   "metadata": {},
   "source": [
    "QUESTION 05"
   ]
  },
  {
   "cell_type": "markdown",
   "id": "26bf3fa3",
   "metadata": {},
   "source": [
    "Datatype of index is int and slicing is list"
   ]
  },
  {
   "cell_type": "markdown",
   "id": "2d2258d5",
   "metadata": {},
   "source": [
    "QUESTION 06"
   ]
  },
  {
   "cell_type": "markdown",
   "id": "8ebb05e7",
   "metadata": {},
   "source": [
    "Character is simply a string with a lenght of 1"
   ]
  },
  {
   "cell_type": "markdown",
   "id": "e6029ac9",
   "metadata": {},
   "source": [
    "QUESTION 07"
   ]
  },
  {
   "cell_type": "markdown",
   "id": "67da2313",
   "metadata": {},
   "source": [
    "Using + operator is used "
   ]
  },
  {
   "cell_type": "markdown",
   "id": "65f99825",
   "metadata": {},
   "source": [
    "QUESTION 08"
   ]
  },
  {
   "cell_type": "markdown",
   "id": "49a9c53a",
   "metadata": {},
   "source": [
    "QUESTION 09"
   ]
  },
  {
   "cell_type": "markdown",
   "id": "d9fdac7e",
   "metadata": {},
   "source": [
    "and or not operators"
   ]
  },
  {
   "cell_type": "code",
   "execution_count": null,
   "id": "72d62e6a",
   "metadata": {},
   "outputs": [],
   "source": []
  }
 ],
 "metadata": {
  "kernelspec": {
   "display_name": "Python 3 (ipykernel)",
   "language": "python",
   "name": "python3"
  },
  "language_info": {
   "codemirror_mode": {
    "name": "ipython",
    "version": 3
   },
   "file_extension": ".py",
   "mimetype": "text/x-python",
   "name": "python",
   "nbconvert_exporter": "python",
   "pygments_lexer": "ipython3",
   "version": "3.9.7"
  }
 },
 "nbformat": 4,
 "nbformat_minor": 5
}
