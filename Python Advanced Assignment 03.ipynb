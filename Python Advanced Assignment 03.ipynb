{
 "cells": [
  {
   "cell_type": "markdown",
   "id": "16779a6f",
   "metadata": {},
   "source": [
    "# Python Advanced Assignment 03"
   ]
  },
  {
   "cell_type": "markdown",
   "id": "60c26512",
   "metadata": {},
   "source": [
    "QUESTION 01"
   ]
  },
  {
   "cell_type": "markdown",
   "id": "706f29d8",
   "metadata": {},
   "source": [
    "A common superclass for several subclasses "
   ]
  },
  {
   "cell_type": "markdown",
   "id": "44ebdad0",
   "metadata": {},
   "source": [
    "QUESTION 02"
   ]
  },
  {
   "cell_type": "code",
   "execution_count": null,
   "id": "ef546470",
   "metadata": {},
   "outputs": [],
   "source": [
    "We can access the class variables within the class and not outside the class"
   ]
  },
  {
   "cell_type": "markdown",
   "id": "18069089",
   "metadata": {},
   "source": [
    "QUESTION 03"
   ]
  },
  {
   "cell_type": "markdown",
   "id": "8c4245c1",
   "metadata": {},
   "source": [
    "The main reason is that a base class, may typically create member variable and initialize them to defaults.\n",
    "So if we dont call base class init, none of the code will be executed and would end up wuth base class, that has no member variables"
   ]
  },
  {
   "cell_type": "markdown",
   "id": "b857af18",
   "metadata": {},
   "source": [
    "QUESTION 04"
   ]
  },
  {
   "cell_type": "code",
   "execution_count": null,
   "id": "f636d5d8",
   "metadata": {},
   "outputs": [],
   "source": [
    "The best way to augment an inherited method involves forwarding. "
   ]
  },
  {
   "cell_type": "markdown",
   "id": "ce5ae3cb",
   "metadata": {},
   "source": [
    "QUESTION 05"
   ]
  },
  {
   "cell_type": "markdown",
   "id": "fa82ba5c",
   "metadata": {},
   "source": [
    "variables declared in class, can be accessed outside a function too , But declaring a variable in function can only be accessed wthin the function"
   ]
  },
  {
   "cell_type": "code",
   "execution_count": null,
   "id": "52611c9c",
   "metadata": {},
   "outputs": [],
   "source": []
  }
 ],
 "metadata": {
  "kernelspec": {
   "display_name": "Python 3 (ipykernel)",
   "language": "python",
   "name": "python3"
  },
  "language_info": {
   "codemirror_mode": {
    "name": "ipython",
    "version": 3
   },
   "file_extension": ".py",
   "mimetype": "text/x-python",
   "name": "python",
   "nbconvert_exporter": "python",
   "pygments_lexer": "ipython3",
   "version": "3.9.7"
  }
 },
 "nbformat": 4,
 "nbformat_minor": 5
}
