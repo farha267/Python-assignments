{
 "cells": [
  {
   "cell_type": "markdown",
   "id": "71c5804b",
   "metadata": {},
   "source": [
    "# Python basics Assignment 10"
   ]
  },
  {
   "cell_type": "markdown",
   "id": "35c9ca75",
   "metadata": {},
   "source": [
    "QUESTION 01"
   ]
  },
  {
   "cell_type": "markdown",
   "id": "38e3b47f",
   "metadata": {},
   "source": [
    "shutil.copy() will copy a single file. and shutil.copytree() will copy entire folder and all the files contained in it"
   ]
  },
  {
   "cell_type": "markdown",
   "id": "ddd20bbb",
   "metadata": {},
   "source": [
    "QUESTION 02"
   ]
  },
  {
   "cell_type": "markdown",
   "id": "9f734b5a",
   "metadata": {},
   "source": [
    "rename() function is used to rename files"
   ]
  },
  {
   "cell_type": "markdown",
   "id": "6adc58be",
   "metadata": {},
   "source": [
    "QUESTION 03"
   ]
  },
  {
   "cell_type": "markdown",
   "id": "1a3dfa78",
   "metadata": {},
   "source": [
    "send2trash() function will move the file or folder to the recycle bin , while shutil functions will delete files and folder permanently"
   ]
  },
  {
   "cell_type": "markdown",
   "id": "01b4ee1b",
   "metadata": {},
   "source": [
    "QUESTION 04"
   ]
  },
  {
   "cell_type": "markdown",
   "id": "0e700db3",
   "metadata": {},
   "source": [
    "zipfile.open() is equivalent to open() method in file objects"
   ]
  },
  {
   "cell_type": "markdown",
   "id": "cbf9b679",
   "metadata": {},
   "source": [
    "QUESTION 05"
   ]
  },
  {
   "cell_type": "code",
   "execution_count": 2,
   "id": "ad5a09fd",
   "metadata": {},
   "outputs": [],
   "source": [
    "import os"
   ]
  },
  {
   "cell_type": "code",
   "execution_count": 3,
   "id": "f89b1301",
   "metadata": {},
   "outputs": [],
   "source": [
    "import shutil"
   ]
  },
  {
   "cell_type": "code",
   "execution_count": 4,
   "id": "c7b3ea4a",
   "metadata": {},
   "outputs": [
    {
     "name": "stdout",
     "output_type": "stream",
     "text": [
      "looking in  C:\\Users\\farha\\randomfolder for files with extensions of  .pdf, .py\n"
     ]
    }
   ],
   "source": [
    "def selectivecopy(folder,extensions,destfolder):\n",
    "    folder = os.path.abspath(folder)\n",
    "    destfolder = os.path.abspath(destfolder)\n",
    "    print(\"looking in \", folder, \"for files with extensions of \", ','.join(extensions))\n",
    "    for foldername, subfolders, filenames in os.walk(folder):\n",
    "        for filename in filenames:\n",
    "            name, extension = os.pathsplitext(filename)\n",
    "            if extension in extensions:\n",
    "                print(\"copying \", fileabspath, \"to \", destfolder)\n",
    "                shutil.copy(fileabspath, destfolder)\n",
    "extensions = [\".pdf\", \" .py\"]\n",
    "folder = 'randomfolder'\n",
    "destfolder = \"selectivefolder\"\n",
    "selectivecopy(folder, extensions, destfolder)"
   ]
  },
  {
   "cell_type": "code",
   "execution_count": null,
   "id": "983c3fd7",
   "metadata": {},
   "outputs": [],
   "source": []
  }
 ],
 "metadata": {
  "kernelspec": {
   "display_name": "Python 3 (ipykernel)",
   "language": "python",
   "name": "python3"
  },
  "language_info": {
   "codemirror_mode": {
    "name": "ipython",
    "version": 3
   },
   "file_extension": ".py",
   "mimetype": "text/x-python",
   "name": "python",
   "nbconvert_exporter": "python",
   "pygments_lexer": "ipython3",
   "version": "3.9.7"
  }
 },
 "nbformat": 4,
 "nbformat_minor": 5
}
