{
 "cells": [
  {
   "cell_type": "markdown",
   "id": "b0912b38",
   "metadata": {},
   "source": [
    "# ASSIGNMENT 3"
   ]
  },
  {
   "cell_type": "markdown",
   "id": "c2d3d354",
   "metadata": {},
   "source": [
    "QUESTION 01"
   ]
  },
  {
   "cell_type": "markdown",
   "id": "785075a2",
   "metadata": {},
   "source": [
    "Functions in programs makes the code easier, shorter, helps in reusability\n",
    "Functions reduces the duplication of code."
   ]
  },
  {
   "cell_type": "markdown",
   "id": "0ca28a36",
   "metadata": {},
   "source": [
    "QUESTION 02"
   ]
  },
  {
   "cell_type": "markdown",
   "id": "ed9e5594",
   "metadata": {},
   "source": [
    "When the function is called during the code, at that point of time fuction runs."
   ]
  },
  {
   "cell_type": "markdown",
   "id": "ef5766b0",
   "metadata": {},
   "source": [
    "QUESTION 03"
   ]
  },
  {
   "cell_type": "markdown",
   "id": "7a075166",
   "metadata": {},
   "source": [
    "def keyword in statement creates a function along with fuction name given by coder followed by ()"
   ]
  },
  {
   "cell_type": "markdown",
   "id": "75a40c14",
   "metadata": {},
   "source": [
    "QUESTION 04"
   ]
  },
  {
   "cell_type": "markdown",
   "id": "ca9b6e83",
   "metadata": {},
   "source": [
    "Function is a block of code that performs execution and returns a result. \n",
    "Functioncall is the code used to pass control to a function and the program control is transferred to the called function."
   ]
  },
  {
   "cell_type": "markdown",
   "id": "b2ecc5ed",
   "metadata": {},
   "source": [
    "QUESTION 05"
   ]
  },
  {
   "cell_type": "markdown",
   "id": "70b69cd9",
   "metadata": {},
   "source": [
    "There is only one global scope in python\n",
    "There are 4 types of local scopes in python"
   ]
  },
  {
   "cell_type": "markdown",
   "id": "45301e8c",
   "metadata": {},
   "source": [
    "QUESTION 06"
   ]
  },
  {
   "cell_type": "markdown",
   "id": "2f4ab88c",
   "metadata": {},
   "source": [
    "After a function call returns local variables are destroyed."
   ]
  },
  {
   "cell_type": "markdown",
   "id": "223c1026",
   "metadata": {},
   "source": [
    "QUESTION 07"
   ]
  },
  {
   "cell_type": "markdown",
   "id": "2c701163",
   "metadata": {},
   "source": [
    "A function takes the arguments, performs some operations, and returns a value.\n",
    "The value that a function returns after the execution is known as function's return value\n",
    "Yes, it is possible to return value in an expression."
   ]
  },
  {
   "cell_type": "markdown",
   "id": "c961e969",
   "metadata": {},
   "source": [
    "QUESTION 08"
   ]
  },
  {
   "cell_type": "markdown",
   "id": "76013b5a",
   "metadata": {},
   "source": [
    "If there is no return statement then the function returns none\n",
    "These functions are undefined."
   ]
  },
  {
   "cell_type": "markdown",
   "id": "090befdf",
   "metadata": {},
   "source": [
    "QUESTION 09"
   ]
  },
  {
   "cell_type": "markdown",
   "id": "c1c65c29",
   "metadata": {},
   "source": [
    "We can make a function variable as global variable by declaring it as global using global keyword"
   ]
  },
  {
   "cell_type": "markdown",
   "id": "dc1b5e2c",
   "metadata": {},
   "source": [
    "QUESTION 10"
   ]
  },
  {
   "cell_type": "markdown",
   "id": "69d5743c",
   "metadata": {},
   "source": [
    "None is none datatype "
   ]
  },
  {
   "cell_type": "markdown",
   "id": "eddd68d3",
   "metadata": {},
   "source": [
    "QUESTION 11"
   ]
  },
  {
   "cell_type": "markdown",
   "id": "44cade33",
   "metadata": {},
   "source": [
    "That imports a module named areallyourpetsnamederic"
   ]
  },
  {
   "cell_type": "markdown",
   "id": "4b637521",
   "metadata": {},
   "source": [
    "QUESTION 12"
   ]
  },
  {
   "cell_type": "markdown",
   "id": "356633be",
   "metadata": {},
   "source": [
    "This function can be called as spam.bacon()"
   ]
  },
  {
   "cell_type": "markdown",
   "id": "fe1b5e81",
   "metadata": {},
   "source": [
    "QUESTION 13"
   ]
  },
  {
   "cell_type": "markdown",
   "id": "2d52d889",
   "metadata": {},
   "source": [
    "We have to move our code in try and except statement to avoid crashing of the program"
   ]
  },
  {
   "cell_type": "markdown",
   "id": "23a0a6f5",
   "metadata": {},
   "source": [
    "QUESTION 14"
   ]
  },
  {
   "cell_type": "markdown",
   "id": "789cfe1a",
   "metadata": {},
   "source": [
    "try block is used to test a block of code for errors.\n",
    "The except block is used to handle the error with user defined response"
   ]
  },
  {
   "cell_type": "code",
   "execution_count": null,
   "id": "83a8eac0",
   "metadata": {},
   "outputs": [],
   "source": []
  }
 ],
 "metadata": {
  "kernelspec": {
   "display_name": "Python 3 (ipykernel)",
   "language": "python",
   "name": "python3"
  },
  "language_info": {
   "codemirror_mode": {
    "name": "ipython",
    "version": 3
   },
   "file_extension": ".py",
   "mimetype": "text/x-python",
   "name": "python",
   "nbconvert_exporter": "python",
   "pygments_lexer": "ipython3",
   "version": "3.9.7"
  }
 },
 "nbformat": 4,
 "nbformat_minor": 5
}
