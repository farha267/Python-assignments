{
 "cells": [
  {
   "cell_type": "markdown",
   "id": "dc8dbcc5",
   "metadata": {},
   "source": [
    "# Python Basics Assignments 09"
   ]
  },
  {
   "cell_type": "markdown",
   "id": "a5a62a96",
   "metadata": {},
   "source": [
    "QUESTION 01"
   ]
  },
  {
   "cell_type": "markdown",
   "id": "dac1862e",
   "metadata": {},
   "source": [
    "Relative path refer to location that is relative to a current directory."
   ]
  },
  {
   "cell_type": "markdown",
   "id": "5bcac357",
   "metadata": {},
   "source": [
    "QUESTION 02"
   ]
  },
  {
   "cell_type": "markdown",
   "id": "38a680db",
   "metadata": {},
   "source": [
    "The absolute path start with home directory of the computer and will end with the filename"
   ]
  },
  {
   "cell_type": "markdown",
   "id": "e19cecf7",
   "metadata": {},
   "source": [
    "QUESTION 03"
   ]
  },
  {
   "cell_type": "markdown",
   "id": "c2a8fdf7",
   "metadata": {},
   "source": [
    "os.getcwd() returns the current working directory \n",
    "                        os.chdir() change our current directory with the new directory given by the user"
   ]
  },
  {
   "cell_type": "markdown",
   "id": "50ab267b",
   "metadata": {},
   "source": [
    "QUESTION 04"
   ]
  },
  {
   "cell_type": "markdown",
   "id": "2d1ce14e",
   "metadata": {},
   "source": [
    "A .() translates into current directory and the parent directory and ..() are used to move up in the hierarchy"
   ]
  },
  {
   "cell_type": "markdown",
   "id": "b0f0399d",
   "metadata": {},
   "source": [
    "QUESTION 05"
   ]
  },
  {
   "cell_type": "markdown",
   "id": "f6c178a7",
   "metadata": {},
   "source": [
    "C: is the directory name and bacon is the basename"
   ]
  },
  {
   "cell_type": "markdown",
   "id": "9856603c",
   "metadata": {},
   "source": [
    "QUESTION 06"
   ]
  },
  {
   "cell_type": "markdown",
   "id": "f05fe370",
   "metadata": {},
   "source": [
    "The three mode to open a file are 'w'   'r'   'r+'"
   ]
  },
  {
   "cell_type": "markdown",
   "id": "2132d390",
   "metadata": {},
   "source": [
    "QUESTION 07"
   ]
  },
  {
   "cell_type": "markdown",
   "id": "310bc957",
   "metadata": {},
   "source": [
    "If the file exists in the current directory and is opened in write mode the contents will be deleted before writing "
   ]
  },
  {
   "cell_type": "markdown",
   "id": "857d7de4",
   "metadata": {},
   "source": [
    "QUESTION 08"
   ]
  },
  {
   "cell_type": "markdown",
   "id": "948319f3",
   "metadata": {},
   "source": [
    "readline() reads from a file in read mode and returns next line in the file or return blank if there are no lines.\n",
    "read() reads data word by aord and returns it "
   ]
  },
  {
   "cell_type": "markdown",
   "id": "b412f38a",
   "metadata": {},
   "source": [
    "QUESTION 09"
   ]
  },
  {
   "cell_type": "markdown",
   "id": "63e41c22",
   "metadata": {},
   "source": [
    "A shelf value resembles along with keys() and values() methods that work similarly to a dictionary method "
   ]
  },
  {
   "cell_type": "code",
   "execution_count": null,
   "id": "852877e8",
   "metadata": {},
   "outputs": [],
   "source": []
  }
 ],
 "metadata": {
  "kernelspec": {
   "display_name": "Python 3 (ipykernel)",
   "language": "python",
   "name": "python3"
  },
  "language_info": {
   "codemirror_mode": {
    "name": "ipython",
    "version": 3
   },
   "file_extension": ".py",
   "mimetype": "text/x-python",
   "name": "python",
   "nbconvert_exporter": "python",
   "pygments_lexer": "ipython3",
   "version": "3.9.7"
  }
 },
 "nbformat": 4,
 "nbformat_minor": 5
}
