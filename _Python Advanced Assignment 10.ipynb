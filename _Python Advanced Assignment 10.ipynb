{
 "cells": [
  {
   "cell_type": "markdown",
   "id": "e6858a45",
   "metadata": {},
   "source": [
    "# Python Advanced Assignment 10"
   ]
  },
  {
   "cell_type": "markdown",
   "id": "c33c672b",
   "metadata": {},
   "source": [
    "QUESTION 01"
   ]
  },
  {
   "cell_type": "markdown",
   "id": "b144abf4",
   "metadata": {},
   "source": [
    "__getattr__ is only revoked if attribute is not found.    __getattribute__ returns only when all the attributes are verified and present"
   ]
  },
  {
   "cell_type": "markdown",
   "id": "a21a2709",
   "metadata": {},
   "source": [
    "QUESTION 02"
   ]
  },
  {
   "cell_type": "markdown",
   "id": "946010a4",
   "metadata": {},
   "source": [
    "descriptors are a low level mechanism that lets to hook into an object attribute \n",
    "...properties are high level mechanism uses descriptors"
   ]
  },
  {
   "cell_type": "markdown",
   "id": "6d8f5f73",
   "metadata": {},
   "source": [
    "QUESTION 03"
   ]
  },
  {
   "cell_type": "markdown",
   "id": "6e7deb5b",
   "metadata": {},
   "source": [
    "getattr is only revoked if attribute is not found. getattribute returns only when all the attributes are verified and present....descriptors are a low level mechanism that lets to hook into an object attribute ...properties are high level mechanism uses descriptors"
   ]
  },
  {
   "cell_type": "markdown",
   "id": "9cbb0546",
   "metadata": {},
   "source": []
  },
  {
   "cell_type": "code",
   "execution_count": null,
   "id": "91152994",
   "metadata": {},
   "outputs": [],
   "source": []
  }
 ],
 "metadata": {
  "kernelspec": {
   "display_name": "Python 3 (ipykernel)",
   "language": "python",
   "name": "python3"
  },
  "language_info": {
   "codemirror_mode": {
    "name": "ipython",
    "version": 3
   },
   "file_extension": ".py",
   "mimetype": "text/x-python",
   "name": "python",
   "nbconvert_exporter": "python",
   "pygments_lexer": "ipython3",
   "version": "3.9.7"
  }
 },
 "nbformat": 4,
 "nbformat_minor": 5
}
