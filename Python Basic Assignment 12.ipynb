{
 "cells": [
  {
   "cell_type": "markdown",
   "id": "a022d8a1",
   "metadata": {},
   "source": [
    "# Python basic Assignment 12"
   ]
  },
  {
   "cell_type": "markdown",
   "id": "86934c41",
   "metadata": {},
   "source": [
    "QUESTION 01"
   ]
  },
  {
   "cell_type": "markdown",
   "id": "8596173a",
   "metadata": {},
   "source": [
    " to open PdfFileReader() we use 'rb' and for and, PdfFileWriter() we use 'wb'"
   ]
  },
  {
   "cell_type": "markdown",
   "id": "e8d58d19",
   "metadata": {},
   "source": [
    "QUESTION 02"
   ]
  },
  {
   "cell_type": "markdown",
   "id": "d3a44fb4",
   "metadata": {},
   "source": [
    "getpage() method is used to access the page"
   ]
  },
  {
   "cell_type": "markdown",
   "id": "5a9a6d9c",
   "metadata": {},
   "source": [
    "QUESTION 03"
   ]
  },
  {
   "cell_type": "markdown",
   "id": "23a634dc",
   "metadata": {},
   "source": [
    "num pages attritube onject is used"
   ]
  },
  {
   "cell_type": "markdown",
   "id": "7d04704c",
   "metadata": {},
   "source": [
    "QUESTION 04"
   ]
  },
  {
   "cell_type": "markdown",
   "id": "9f481f49",
   "metadata": {},
   "source": [
    "ctrl+shift+L and ctrl+shift+L"
   ]
  },
  {
   "cell_type": "markdown",
   "id": "bea40cc1",
   "metadata": {},
   "source": [
    "QUESTION 06"
   ]
  },
  {
   "cell_type": "markdown",
   "id": "64c45e15",
   "metadata": {},
   "source": [
    "Each paragraph object also has a run attribute that is a list of run objects paragraph with some bold and italic"
   ]
  },
  {
   "cell_type": "markdown",
   "id": "d786cf8c",
   "metadata": {},
   "source": [
    "QUESTION 09"
   ]
  },
  {
   "cell_type": "markdown",
   "id": "8a9e4f47",
   "metadata": {},
   "source": [
    "True and False are specific bool values and None is used as generic placeholder when the value will be set later"
   ]
  },
  {
   "cell_type": "markdown",
   "id": "c5225bea",
   "metadata": {},
   "source": [
    "QUESTION 10"
   ]
  },
  {
   "cell_type": "markdown",
   "id": "c93dacf2",
   "metadata": {},
   "source": [
    "In the object dialogue box click the create new tab then select an option from the object type list"
   ]
  },
  {
   "cell_type": "markdown",
   "id": "aa18be90",
   "metadata": {},
   "source": [
    "QUESTION 12"
   ]
  },
  {
   "cell_type": "code",
   "execution_count": null,
   "id": "93f16b15",
   "metadata": {},
   "outputs": [],
   "source": [
    "int and float data types is used"
   ]
  }
 ],
 "metadata": {
  "kernelspec": {
   "display_name": "Python 3 (ipykernel)",
   "language": "python",
   "name": "python3"
  },
  "language_info": {
   "codemirror_mode": {
    "name": "ipython",
    "version": 3
   },
   "file_extension": ".py",
   "mimetype": "text/x-python",
   "name": "python",
   "nbconvert_exporter": "python",
   "pygments_lexer": "ipython3",
   "version": "3.9.7"
  }
 },
 "nbformat": 4,
 "nbformat_minor": 5
}
