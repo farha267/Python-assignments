{
 "cells": [
  {
   "cell_type": "markdown",
   "id": "98b1eebb",
   "metadata": {},
   "source": [
    "QUESTION 01"
   ]
  },
  {
   "cell_type": "markdown",
   "id": "6039f88f",
   "metadata": {},
   "source": [
    "try statement allows us to define a block of code to be tested for errors while it is being executed"
   ]
  },
  {
   "cell_type": "markdown",
   "id": "46e7d86c",
   "metadata": {},
   "source": [
    "QUESTION 02"
   ]
  },
  {
   "cell_type": "markdown",
   "id": "c657ca1b",
   "metadata": {},
   "source": [
    "syntax errors and exceptions in python"
   ]
  },
  {
   "cell_type": "markdown",
   "id": "cd8c2361",
   "metadata": {},
   "source": [
    "QUESTION 03"
   ]
  },
  {
   "cell_type": "markdown",
   "id": "2886ca00",
   "metadata": {},
   "source": [
    "raise statement is used to raise exceptions or errors according to our choice"
   ]
  },
  {
   "cell_type": "markdown",
   "id": "191d8fbf",
   "metadata": {},
   "source": [
    "QUESTION 04"
   ]
  },
  {
   "cell_type": "markdown",
   "id": "7186af89",
   "metadata": {},
   "source": [
    "assert statement takes an expression and optional message, it is used to check types, values of argument and the output of the functionand it is used as a debugging tool"
   ]
  },
  {
   "cell_type": "markdown",
   "id": "882dce1e",
   "metadata": {},
   "source": [
    "QUESTION 05"
   ]
  },
  {
   "cell_type": "markdown",
   "id": "fce0054f",
   "metadata": {},
   "source": [
    "with statement is used for exception handling to make the code more clear and manage it"
   ]
  },
  {
   "cell_type": "code",
   "execution_count": null,
   "id": "650c2f7c",
   "metadata": {},
   "outputs": [],
   "source": []
  }
 ],
 "metadata": {
  "kernelspec": {
   "display_name": "Python 3 (ipykernel)",
   "language": "python",
   "name": "python3"
  },
  "language_info": {
   "codemirror_mode": {
    "name": "ipython",
    "version": 3
   },
   "file_extension": ".py",
   "mimetype": "text/x-python",
   "name": "python",
   "nbconvert_exporter": "python",
   "pygments_lexer": "ipython3",
   "version": "3.9.7"
  }
 },
 "nbformat": 4,
 "nbformat_minor": 5
}
