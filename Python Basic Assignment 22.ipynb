{
 "cells": [
  {
   "cell_type": "markdown",
   "id": "f70d412a",
   "metadata": {},
   "source": [
    "# Python Basic Assignment 22"
   ]
  },
  {
   "cell_type": "markdown",
   "id": "707af044",
   "metadata": {},
   "source": [
    "QUESTION 01"
   ]
  },
  {
   "cell_type": "code",
   "execution_count": 1,
   "id": "62a7577e",
   "metadata": {},
   "outputs": [],
   "source": [
    "x = 'ineuron'\n",
    "def func():\n",
    "    print(x)"
   ]
  },
  {
   "cell_type": "code",
   "execution_count": 2,
   "id": "58924bba",
   "metadata": {},
   "outputs": [
    {
     "name": "stdout",
     "output_type": "stream",
     "text": [
      "ineuron\n"
     ]
    }
   ],
   "source": [
    "func()"
   ]
  },
  {
   "cell_type": "markdown",
   "id": "99232d97",
   "metadata": {},
   "source": [
    "Here user defined function is created as func() which prints ineuron which is stored in variable x"
   ]
  },
  {
   "cell_type": "markdown",
   "id": "de643831",
   "metadata": {},
   "source": [
    "QUESTION 02"
   ]
  },
  {
   "cell_type": "code",
   "execution_count": 1,
   "id": "101e8850",
   "metadata": {},
   "outputs": [],
   "source": [
    "x = 'ineuron'\n",
    "def func():\n",
    "    x = 'NI!'\n",
    "    func()\n",
    "    print(x)"
   ]
  },
  {
   "cell_type": "code",
   "execution_count": null,
   "id": "78506306",
   "metadata": {},
   "outputs": [],
   "source": [
    "func()"
   ]
  },
  {
   "cell_type": "markdown",
   "id": "e70349b0",
   "metadata": {},
   "source": [
    "Here the kernel dies when we create the function with 2 values to a same variable or overwrite the variable of a function"
   ]
  },
  {
   "cell_type": "markdown",
   "id": "be47ec12",
   "metadata": {},
   "source": [
    "QUESTION 03"
   ]
  },
  {
   "cell_type": "code",
   "execution_count": 2,
   "id": "e3bf53ee",
   "metadata": {},
   "outputs": [],
   "source": [
    " X = 'iNeuron'\n",
    "def func():\n",
    "    X = 'NI'\n",
    "    print(X)\n",
    "    func()\n",
    "    print(X)\n"
   ]
  },
  {
   "cell_type": "code",
   "execution_count": null,
   "id": "6b36afe2",
   "metadata": {},
   "outputs": [],
   "source": [
    "func()"
   ]
  },
  {
   "cell_type": "markdown",
   "id": "8dba95ce",
   "metadata": {},
   "source": [
    "Here the kernel dies when we create the function with 2 values to a same variable or overwrite the variable of a function and when 2 print option are given for the same execution of code"
   ]
  },
  {
   "cell_type": "markdown",
   "id": "54c9f75e",
   "metadata": {},
   "source": [
    "QUESTION 04"
   ]
  },
  {
   "cell_type": "code",
   "execution_count": 1,
   "id": "4c507641",
   "metadata": {},
   "outputs": [],
   "source": [
    "X = 'iNeuron'\n",
    "def func():\n",
    "    global X\n",
    "    X = 'NI'\n",
    "    func()\n",
    "    print(X)\n"
   ]
  },
  {
   "cell_type": "code",
   "execution_count": null,
   "id": "e5907f8d",
   "metadata": {},
   "outputs": [],
   "source": [
    "func()"
   ]
  },
  {
   "cell_type": "markdown",
   "id": "05faf809",
   "metadata": {},
   "source": [
    "QUESTION 05"
   ]
  },
  {
   "cell_type": "code",
   "execution_count": 1,
   "id": "a55f543a",
   "metadata": {},
   "outputs": [],
   "source": [
    "X = 'iNeuron'\n",
    "def func():\n",
    "    X = 'NI'\n",
    "    def nested():\n",
    "        print(X)\n",
    "        nested()\n",
    "        func()\n",
    "        X\n"
   ]
  },
  {
   "cell_type": "code",
   "execution_count": 3,
   "id": "e1ecfb1b",
   "metadata": {},
   "outputs": [],
   "source": [
    "func()"
   ]
  },
  {
   "cell_type": "markdown",
   "id": "dbb8ad49",
   "metadata": {},
   "source": [
    "Here we dont get any output as we have used nested function"
   ]
  },
  {
   "cell_type": "markdown",
   "id": "c9adfe5f",
   "metadata": {},
   "source": [
    "QUESTION 06"
   ]
  },
  {
   "cell_type": "code",
   "execution_count": 6,
   "id": "5f9af747",
   "metadata": {},
   "outputs": [],
   "source": [
    "def func():\n",
    "    X = 'NI'\n",
    "    def nested():\n",
    "        nonlocal X\n",
    "        X = 'Spam'\n",
    "        nested()\n",
    "        print(X)\n",
    "        func()\n"
   ]
  },
  {
   "cell_type": "code",
   "execution_count": 7,
   "id": "83400212",
   "metadata": {},
   "outputs": [],
   "source": [
    "func()"
   ]
  },
  {
   "cell_type": "markdown",
   "id": "29c688a0",
   "metadata": {},
   "source": [
    "Here we dont get any output because the function name is used as the print and varaiable is overwritten"
   ]
  },
  {
   "cell_type": "code",
   "execution_count": null,
   "id": "ea0019d6",
   "metadata": {},
   "outputs": [],
   "source": []
  }
 ],
 "metadata": {
  "kernelspec": {
   "display_name": "Python 3 (ipykernel)",
   "language": "python",
   "name": "python3"
  },
  "language_info": {
   "codemirror_mode": {
    "name": "ipython",
    "version": 3
   },
   "file_extension": ".py",
   "mimetype": "text/x-python",
   "name": "python",
   "nbconvert_exporter": "python",
   "pygments_lexer": "ipython3",
   "version": "3.9.7"
  }
 },
 "nbformat": 4,
 "nbformat_minor": 5
}
